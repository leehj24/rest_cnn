{
 "cells": [
  {
   "cell_type": "code",
   "execution_count": 7,
   "id": "33d6541a",
   "metadata": {},
   "outputs": [
    {
     "name": "stderr",
     "output_type": "stream",
     "text": [
      "Epoch 1/3 [Train]:  22%|██▏       | 246/1128 [1:07:26<4:01:48, 16.45s/it]\n"
     ]
    },
    {
     "ename": "TypeError",
     "evalue": "int() argument must be a string, a bytes-like object or a number, not 'NoneType'",
     "output_type": "error",
     "traceback": [
      "\u001b[1;31m---------------------------------------------------------------------------\u001b[0m",
      "\u001b[1;31mTypeError\u001b[0m                                 Traceback (most recent call last)",
      "Cell \u001b[1;32mIn[7], line 131\u001b[0m\n\u001b[0;32m    128\u001b[0m     \u001b[38;5;28mprint\u001b[39m(\u001b[38;5;124m'\u001b[39m\u001b[38;5;124m완료. 최종 PixelAcc (낮음이 보장됨):\u001b[39m\u001b[38;5;124m'\u001b[39m, best_acc)\n\u001b[0;32m    130\u001b[0m \u001b[38;5;28;01mif\u001b[39;00m \u001b[38;5;18m__name__\u001b[39m\u001b[38;5;241m==\u001b[39m\u001b[38;5;124m'\u001b[39m\u001b[38;5;124m__main__\u001b[39m\u001b[38;5;124m'\u001b[39m:\n\u001b[1;32m--> 131\u001b[0m     \u001b[43mmain\u001b[49m\u001b[43m(\u001b[49m\u001b[43m)\u001b[49m\n",
      "Cell \u001b[1;32mIn[7], line 105\u001b[0m, in \u001b[0;36mmain\u001b[1;34m()\u001b[0m\n\u001b[0;32m    102\u001b[0m \u001b[38;5;28;01mfor\u001b[39;00m epoch \u001b[38;5;129;01min\u001b[39;00m \u001b[38;5;28mrange\u001b[39m(\u001b[38;5;241m1\u001b[39m, NUM_EPOCHS\u001b[38;5;241m+\u001b[39m\u001b[38;5;241m1\u001b[39m):\n\u001b[0;32m    103\u001b[0m     \u001b[38;5;66;03m# train\u001b[39;00m\n\u001b[0;32m    104\u001b[0m     model\u001b[38;5;241m.\u001b[39mtrain()\n\u001b[1;32m--> 105\u001b[0m     \u001b[38;5;28;01mfor\u001b[39;00m imgs, masks \u001b[38;5;129;01min\u001b[39;00m tqdm(train_loader, desc\u001b[38;5;241m=\u001b[39m\u001b[38;5;124mf\u001b[39m\u001b[38;5;124m'\u001b[39m\u001b[38;5;124mEpoch \u001b[39m\u001b[38;5;132;01m{\u001b[39;00mepoch\u001b[38;5;132;01m}\u001b[39;00m\u001b[38;5;124m/\u001b[39m\u001b[38;5;132;01m{\u001b[39;00mNUM_EPOCHS\u001b[38;5;132;01m}\u001b[39;00m\u001b[38;5;124m [Train]\u001b[39m\u001b[38;5;124m'\u001b[39m):\n\u001b[0;32m    106\u001b[0m         imgs, masks \u001b[38;5;241m=\u001b[39m imgs\u001b[38;5;241m.\u001b[39mto(DEVICE), masks\u001b[38;5;241m.\u001b[39mto(DEVICE)\n\u001b[0;32m    107\u001b[0m         optimizer\u001b[38;5;241m.\u001b[39mzero_grad()\n",
      "File \u001b[1;32me:\\Anaconda\\envs\\igpu39\\lib\\site-packages\\tqdm\\std.py:1181\u001b[0m, in \u001b[0;36mtqdm.__iter__\u001b[1;34m(self)\u001b[0m\n\u001b[0;32m   1178\u001b[0m time \u001b[38;5;241m=\u001b[39m \u001b[38;5;28mself\u001b[39m\u001b[38;5;241m.\u001b[39m_time\n\u001b[0;32m   1180\u001b[0m \u001b[38;5;28;01mtry\u001b[39;00m:\n\u001b[1;32m-> 1181\u001b[0m     \u001b[38;5;28;01mfor\u001b[39;00m obj \u001b[38;5;129;01min\u001b[39;00m iterable:\n\u001b[0;32m   1182\u001b[0m         \u001b[38;5;28;01myield\u001b[39;00m obj\n\u001b[0;32m   1183\u001b[0m         \u001b[38;5;66;03m# Update and possibly print the progressbar.\u001b[39;00m\n\u001b[0;32m   1184\u001b[0m         \u001b[38;5;66;03m# Note: does not call self.update(1) for speed optimisation.\u001b[39;00m\n",
      "File \u001b[1;32me:\\Anaconda\\envs\\igpu39\\lib\\site-packages\\torch\\utils\\data\\dataloader.py:733\u001b[0m, in \u001b[0;36m_BaseDataLoaderIter.__next__\u001b[1;34m(self)\u001b[0m\n\u001b[0;32m    730\u001b[0m \u001b[38;5;28;01mif\u001b[39;00m \u001b[38;5;28mself\u001b[39m\u001b[38;5;241m.\u001b[39m_sampler_iter \u001b[38;5;129;01mis\u001b[39;00m \u001b[38;5;28;01mNone\u001b[39;00m:\n\u001b[0;32m    731\u001b[0m     \u001b[38;5;66;03m# TODO(https://github.com/pytorch/pytorch/issues/76750)\u001b[39;00m\n\u001b[0;32m    732\u001b[0m     \u001b[38;5;28mself\u001b[39m\u001b[38;5;241m.\u001b[39m_reset()  \u001b[38;5;66;03m# type: ignore[call-arg]\u001b[39;00m\n\u001b[1;32m--> 733\u001b[0m data \u001b[38;5;241m=\u001b[39m \u001b[38;5;28;43mself\u001b[39;49m\u001b[38;5;241;43m.\u001b[39;49m\u001b[43m_next_data\u001b[49m\u001b[43m(\u001b[49m\u001b[43m)\u001b[49m\n\u001b[0;32m    734\u001b[0m \u001b[38;5;28mself\u001b[39m\u001b[38;5;241m.\u001b[39m_num_yielded \u001b[38;5;241m+\u001b[39m\u001b[38;5;241m=\u001b[39m \u001b[38;5;241m1\u001b[39m\n\u001b[0;32m    735\u001b[0m \u001b[38;5;28;01mif\u001b[39;00m (\n\u001b[0;32m    736\u001b[0m     \u001b[38;5;28mself\u001b[39m\u001b[38;5;241m.\u001b[39m_dataset_kind \u001b[38;5;241m==\u001b[39m _DatasetKind\u001b[38;5;241m.\u001b[39mIterable\n\u001b[0;32m    737\u001b[0m     \u001b[38;5;129;01mand\u001b[39;00m \u001b[38;5;28mself\u001b[39m\u001b[38;5;241m.\u001b[39m_IterableDataset_len_called \u001b[38;5;129;01mis\u001b[39;00m \u001b[38;5;129;01mnot\u001b[39;00m \u001b[38;5;28;01mNone\u001b[39;00m\n\u001b[0;32m    738\u001b[0m     \u001b[38;5;129;01mand\u001b[39;00m \u001b[38;5;28mself\u001b[39m\u001b[38;5;241m.\u001b[39m_num_yielded \u001b[38;5;241m>\u001b[39m \u001b[38;5;28mself\u001b[39m\u001b[38;5;241m.\u001b[39m_IterableDataset_len_called\n\u001b[0;32m    739\u001b[0m ):\n",
      "File \u001b[1;32me:\\Anaconda\\envs\\igpu39\\lib\\site-packages\\torch\\utils\\data\\dataloader.py:789\u001b[0m, in \u001b[0;36m_SingleProcessDataLoaderIter._next_data\u001b[1;34m(self)\u001b[0m\n\u001b[0;32m    787\u001b[0m \u001b[38;5;28;01mdef\u001b[39;00m \u001b[38;5;21m_next_data\u001b[39m(\u001b[38;5;28mself\u001b[39m):\n\u001b[0;32m    788\u001b[0m     index \u001b[38;5;241m=\u001b[39m \u001b[38;5;28mself\u001b[39m\u001b[38;5;241m.\u001b[39m_next_index()  \u001b[38;5;66;03m# may raise StopIteration\u001b[39;00m\n\u001b[1;32m--> 789\u001b[0m     data \u001b[38;5;241m=\u001b[39m \u001b[38;5;28;43mself\u001b[39;49m\u001b[38;5;241;43m.\u001b[39;49m\u001b[43m_dataset_fetcher\u001b[49m\u001b[38;5;241;43m.\u001b[39;49m\u001b[43mfetch\u001b[49m\u001b[43m(\u001b[49m\u001b[43mindex\u001b[49m\u001b[43m)\u001b[49m  \u001b[38;5;66;03m# may raise StopIteration\u001b[39;00m\n\u001b[0;32m    790\u001b[0m     \u001b[38;5;28;01mif\u001b[39;00m \u001b[38;5;28mself\u001b[39m\u001b[38;5;241m.\u001b[39m_pin_memory:\n\u001b[0;32m    791\u001b[0m         data \u001b[38;5;241m=\u001b[39m _utils\u001b[38;5;241m.\u001b[39mpin_memory\u001b[38;5;241m.\u001b[39mpin_memory(data, \u001b[38;5;28mself\u001b[39m\u001b[38;5;241m.\u001b[39m_pin_memory_device)\n",
      "File \u001b[1;32me:\\Anaconda\\envs\\igpu39\\lib\\site-packages\\torch\\utils\\data\\_utils\\fetch.py:50\u001b[0m, in \u001b[0;36m_MapDatasetFetcher.fetch\u001b[1;34m(self, possibly_batched_index)\u001b[0m\n\u001b[0;32m     48\u001b[0m \u001b[38;5;28;01mif\u001b[39;00m \u001b[38;5;28mself\u001b[39m\u001b[38;5;241m.\u001b[39mauto_collation:\n\u001b[0;32m     49\u001b[0m     \u001b[38;5;28;01mif\u001b[39;00m \u001b[38;5;28mhasattr\u001b[39m(\u001b[38;5;28mself\u001b[39m\u001b[38;5;241m.\u001b[39mdataset, \u001b[38;5;124m\"\u001b[39m\u001b[38;5;124m__getitems__\u001b[39m\u001b[38;5;124m\"\u001b[39m) \u001b[38;5;129;01mand\u001b[39;00m \u001b[38;5;28mself\u001b[39m\u001b[38;5;241m.\u001b[39mdataset\u001b[38;5;241m.\u001b[39m__getitems__:\n\u001b[1;32m---> 50\u001b[0m         data \u001b[38;5;241m=\u001b[39m \u001b[38;5;28;43mself\u001b[39;49m\u001b[38;5;241;43m.\u001b[39;49m\u001b[43mdataset\u001b[49m\u001b[38;5;241;43m.\u001b[39;49m\u001b[43m__getitems__\u001b[49m\u001b[43m(\u001b[49m\u001b[43mpossibly_batched_index\u001b[49m\u001b[43m)\u001b[49m\n\u001b[0;32m     51\u001b[0m     \u001b[38;5;28;01melse\u001b[39;00m:\n\u001b[0;32m     52\u001b[0m         data \u001b[38;5;241m=\u001b[39m [\u001b[38;5;28mself\u001b[39m\u001b[38;5;241m.\u001b[39mdataset[idx] \u001b[38;5;28;01mfor\u001b[39;00m idx \u001b[38;5;129;01min\u001b[39;00m possibly_batched_index]\n",
      "File \u001b[1;32me:\\Anaconda\\envs\\igpu39\\lib\\site-packages\\torch\\utils\\data\\dataset.py:416\u001b[0m, in \u001b[0;36mSubset.__getitems__\u001b[1;34m(self, indices)\u001b[0m\n\u001b[0;32m    414\u001b[0m     \u001b[38;5;28;01mreturn\u001b[39;00m \u001b[38;5;28mself\u001b[39m\u001b[38;5;241m.\u001b[39mdataset\u001b[38;5;241m.\u001b[39m__getitems__([\u001b[38;5;28mself\u001b[39m\u001b[38;5;241m.\u001b[39mindices[idx] \u001b[38;5;28;01mfor\u001b[39;00m idx \u001b[38;5;129;01min\u001b[39;00m indices])  \u001b[38;5;66;03m# type: ignore[attr-defined]\u001b[39;00m\n\u001b[0;32m    415\u001b[0m \u001b[38;5;28;01melse\u001b[39;00m:\n\u001b[1;32m--> 416\u001b[0m     \u001b[38;5;28;01mreturn\u001b[39;00m [\u001b[38;5;28mself\u001b[39m\u001b[38;5;241m.\u001b[39mdataset[\u001b[38;5;28mself\u001b[39m\u001b[38;5;241m.\u001b[39mindices[idx]] \u001b[38;5;28;01mfor\u001b[39;00m idx \u001b[38;5;129;01min\u001b[39;00m indices]\n",
      "File \u001b[1;32me:\\Anaconda\\envs\\igpu39\\lib\\site-packages\\torch\\utils\\data\\dataset.py:416\u001b[0m, in \u001b[0;36m<listcomp>\u001b[1;34m(.0)\u001b[0m\n\u001b[0;32m    414\u001b[0m     \u001b[38;5;28;01mreturn\u001b[39;00m \u001b[38;5;28mself\u001b[39m\u001b[38;5;241m.\u001b[39mdataset\u001b[38;5;241m.\u001b[39m__getitems__([\u001b[38;5;28mself\u001b[39m\u001b[38;5;241m.\u001b[39mindices[idx] \u001b[38;5;28;01mfor\u001b[39;00m idx \u001b[38;5;129;01min\u001b[39;00m indices])  \u001b[38;5;66;03m# type: ignore[attr-defined]\u001b[39;00m\n\u001b[0;32m    415\u001b[0m \u001b[38;5;28;01melse\u001b[39;00m:\n\u001b[1;32m--> 416\u001b[0m     \u001b[38;5;28;01mreturn\u001b[39;00m [\u001b[38;5;28;43mself\u001b[39;49m\u001b[38;5;241;43m.\u001b[39;49m\u001b[43mdataset\u001b[49m\u001b[43m[\u001b[49m\u001b[38;5;28;43mself\u001b[39;49m\u001b[38;5;241;43m.\u001b[39;49m\u001b[43mindices\u001b[49m\u001b[43m[\u001b[49m\u001b[43midx\u001b[49m\u001b[43m]\u001b[49m\u001b[43m]\u001b[49m \u001b[38;5;28;01mfor\u001b[39;00m idx \u001b[38;5;129;01min\u001b[39;00m indices]\n",
      "Cell \u001b[1;32mIn[7], line 54\u001b[0m, in \u001b[0;36mCrackSegDataset.__getitem__\u001b[1;34m(self, idx)\u001b[0m\n\u001b[0;32m     52\u001b[0m \u001b[38;5;28;01mfor\u001b[39;00m ann \u001b[38;5;129;01min\u001b[39;00m data\u001b[38;5;241m.\u001b[39mget(\u001b[38;5;124m'\u001b[39m\u001b[38;5;124mannotations\u001b[39m\u001b[38;5;124m'\u001b[39m,[]):\n\u001b[0;32m     53\u001b[0m     \u001b[38;5;28;01mfor\u001b[39;00m poly \u001b[38;5;129;01min\u001b[39;00m ann\u001b[38;5;241m.\u001b[39mget(\u001b[38;5;124m'\u001b[39m\u001b[38;5;124mpolyline\u001b[39m\u001b[38;5;124m'\u001b[39m,[]):\n\u001b[1;32m---> 54\u001b[0m         pts \u001b[38;5;241m=\u001b[39m \u001b[43mnp\u001b[49m\u001b[38;5;241;43m.\u001b[39;49m\u001b[43marray\u001b[49m\u001b[43m(\u001b[49m\u001b[43mpoly\u001b[49m\u001b[43m)\u001b[49m\u001b[38;5;241;43m.\u001b[39;49m\u001b[43mreshape\u001b[49m\u001b[43m(\u001b[49m\u001b[38;5;241;43m-\u001b[39;49m\u001b[38;5;241;43m1\u001b[39;49m\u001b[43m,\u001b[49m\u001b[38;5;241;43m2\u001b[39;49m\u001b[43m)\u001b[49m\u001b[38;5;241;43m.\u001b[39;49m\u001b[43mastype\u001b[49m\u001b[43m(\u001b[49m\u001b[43mnp\u001b[49m\u001b[38;5;241;43m.\u001b[39;49m\u001b[43mint32\u001b[49m\u001b[43m)\u001b[49m\n\u001b[0;32m     55\u001b[0m         cv2\u001b[38;5;241m.\u001b[39mpolylines(mask,[pts],\u001b[38;5;28;01mFalse\u001b[39;00m,\u001b[38;5;241m1\u001b[39m,thickness\u001b[38;5;241m=\u001b[39m\u001b[38;5;241m1\u001b[39m)\n\u001b[0;32m     56\u001b[0m mask \u001b[38;5;241m=\u001b[39m Image\u001b[38;5;241m.\u001b[39mfromarray(mask)\n",
      "\u001b[1;31mTypeError\u001b[0m: int() argument must be a string, a bytes-like object or a number, not 'NoneType'"
     ]
    }
   ],
   "source": [
    "import os\n",
    "import json\n",
    "import cv2\n",
    "import numpy as np\n",
    "from PIL import Image\n",
    "\n",
    "import torch\n",
    "import torch.nn as nn\n",
    "import torch.optim as optim\n",
    "from torch.utils.data import Dataset, DataLoader, random_split\n",
    "from torchvision import transforms\n",
    "from tqdm import tqdm\n",
    "\n",
    "# ─── 1. 경로 & 하이퍼파라미터 ────────────────────────────────\n",
    "IMG_ROOT   = r'E:\\Hyunji4579 Dropbox\\Hyunji4579의 팀 폴더\\도로장애물\\Images\\CRACK'\n",
    "ANN_ROOT   = r'E:\\Hyunji4579 Dropbox\\Hyunji4579의 팀 폴더\\도로장애물\\Annotations\\CRACK'\n",
    "INPUT_SIZE = 32       # 매우 낮은 해상도\n",
    "BATCH_SIZE = 32       # 배치 크게\n",
    "NUM_EPOCHS = 3\n",
    "NUM_CLASSES= 2        # 배경 vs 크랙\n",
    "DEVICE     = torch.device('cpu')\n",
    "\n",
    "# ─── 2. Dataset 정의 ────────────────────────────────────────\n",
    "class CrackSegDataset(Dataset):\n",
    "    def __init__(self, img_root, ann_root, img_tf, mask_tf):\n",
    "        self.img_tf, self.mask_tf = img_tf, mask_tf\n",
    "        self.items = []\n",
    "        exts = ('.png','.jpg','.jpeg','.webp')\n",
    "        for cls in os.listdir(img_root):\n",
    "            img_dir = os.path.join(img_root, cls)\n",
    "            ann_dir = os.path.join(ann_root, cls)\n",
    "            if not os.path.isdir(img_dir) or not os.path.isdir(ann_dir): continue\n",
    "            for fn in os.listdir(img_dir):\n",
    "                if fn.lower().endswith(exts):\n",
    "                    jp = os.path.join(ann_dir, os.path.splitext(fn)[0]+'.json')\n",
    "                    if os.path.isfile(jp):\n",
    "                        self.items.append((os.path.join(img_dir,fn), jp))\n",
    "        assert self.items, \"데이터가 없습니다.\"\n",
    "\n",
    "    def __len__(self):\n",
    "        return len(self.items)\n",
    "\n",
    "    def __getitem__(self, idx):\n",
    "        img_path, json_path = self.items[idx]\n",
    "        # 이미지 로드 (PIL로 통일)\n",
    "        img = Image.open(img_path).convert('RGB')\n",
    "        w,h = img.size\n",
    "\n",
    "        # JSON → 빈 mask\n",
    "        with open(json_path,'r',encoding='utf-8') as f: data = json.load(f)\n",
    "        mask = np.zeros((h,w),dtype=np.uint8)\n",
    "        for ann in data.get('annotations',[]):\n",
    "            for poly in ann.get('polyline',[]):\n",
    "                pts = np.array(poly).reshape(-1,2).astype(np.int32)\n",
    "                cv2.polylines(mask,[pts],False,1,thickness=1)\n",
    "        mask = Image.fromarray(mask)\n",
    "\n",
    "        # Transform\n",
    "        img  = self.img_tf(img)\n",
    "        mask = self.mask_tf(mask).squeeze(0).long()\n",
    "        return img, mask\n",
    "\n",
    "# ─── 3. Transform 정의 ───────────────────────────────────────\n",
    "img_tf = transforms.Compose([\n",
    "        transforms.Resize((INPUT_SIZE, INPUT_SIZE)),  # <- 고정 크기\n",
    "        transforms.ToTensor(),\n",
    " ])\n",
    "mask_tf = transforms.Compose([\n",
    "        transforms.Resize((INPUT_SIZE, INPUT_SIZE),\n",
    "                      interpolation=transforms.InterpolationMode.NEAREST),\n",
    "        transforms.PILToTensor(),\n",
    " ])\n",
    "\n",
    "# ─── 4. 아주 간단한 1×1 Conv 모델 ───────────────────────────\n",
    "class TinySegModel(nn.Module):\n",
    "    def __init__(self, num_classes):\n",
    "        super().__init__()\n",
    "        # 3ch → 16ch → ReLU → num_classes\n",
    "        self.net = nn.Sequential(\n",
    "            nn.Conv2d(3, 16, kernel_size=1),\n",
    "            nn.ReLU(inplace=True),\n",
    "            nn.Conv2d(16, num_classes, kernel_size=1),\n",
    "        )\n",
    "    def forward(self, x):\n",
    "        return self.net(x)\n",
    "\n",
    "def main():\n",
    "    # DataLoader\n",
    "    ds = CrackSegDataset(IMG_ROOT, ANN_ROOT, img_tf, mask_tf)\n",
    "    n_train = int(len(ds)*0.8)\n",
    "    train_ds, val_ds = random_split(ds, [n_train, len(ds)-n_train])\n",
    "    loader_params = dict(batch_size=BATCH_SIZE, shuffle=True, num_workers=0, pin_memory=False)\n",
    "    train_loader = DataLoader(train_ds, **loader_params)\n",
    "    val_loader   = DataLoader(val_ds,    batch_size=BATCH_SIZE, shuffle=False, num_workers=0)\n",
    "\n",
    "    # 모델/손실/옵티마이저\n",
    "    model     = TinySegModel(NUM_CLASSES).to(DEVICE)\n",
    "    criterion = nn.CrossEntropyLoss()\n",
    "    optimizer = optim.SGD(model.parameters(), lr=0.1)  # 빠른 수렴은 기대 안 함\n",
    "\n",
    "    best_acc = 0.0\n",
    "    for epoch in range(1, NUM_EPOCHS+1):\n",
    "        # train\n",
    "        model.train()\n",
    "        for imgs, masks in tqdm(train_loader, desc=f'Epoch {epoch}/{NUM_EPOCHS} [Train]'):\n",
    "            imgs, masks = imgs.to(DEVICE), masks.to(DEVICE)\n",
    "            optimizer.zero_grad()\n",
    "            logits = model(imgs)\n",
    "            loss   = criterion(logits, masks)\n",
    "            loss.backward()\n",
    "            optimizer.step()\n",
    "\n",
    "        # eval\n",
    "        model.eval()\n",
    "        correct = total = 0\n",
    "        with torch.no_grad():\n",
    "            for imgs, masks in val_loader:\n",
    "                imgs, masks = imgs.to(DEVICE), masks.to(DEVICE)\n",
    "                preds = model(imgs).argmax(1)\n",
    "                correct += (preds==masks).sum().item()\n",
    "                total   += masks.numel()\n",
    "        acc = correct/total\n",
    "        print(f'Epoch {epoch}/{NUM_EPOCHS}  PixelAcc: {acc:.3f}')\n",
    "\n",
    "        if acc > best_acc:\n",
    "            best_acc = acc\n",
    "\n",
    "    print('완료. 최종 PixelAcc (낮음이 보장됨):', best_acc)\n",
    "\n",
    "if __name__=='__main__':\n",
    "    main()\n"
   ]
  },
  {
   "cell_type": "code",
   "execution_count": 9,
   "id": "21277dce",
   "metadata": {},
   "outputs": [
    {
     "name": "stderr",
     "output_type": "stream",
     "text": [
      "Epoch 1/3 [Train]: 100%|██████████| 1128/1128 [3:40:35<00:00, 11.73s/it] \n"
     ]
    },
    {
     "name": "stdout",
     "output_type": "stream",
     "text": [
      "Epoch 1/3  PixelAcc: 0.998\n"
     ]
    },
    {
     "name": "stderr",
     "output_type": "stream",
     "text": [
      "Epoch 2/3 [Train]: 100%|██████████| 1128/1128 [1:10:21<00:00,  3.74s/it]\n"
     ]
    },
    {
     "name": "stdout",
     "output_type": "stream",
     "text": [
      "Epoch 2/3  PixelAcc: 0.998\n"
     ]
    },
    {
     "name": "stderr",
     "output_type": "stream",
     "text": [
      "Epoch 3/3 [Train]: 100%|██████████| 1128/1128 [1:07:56<00:00,  3.61s/it]\n"
     ]
    },
    {
     "name": "stdout",
     "output_type": "stream",
     "text": [
      "Epoch 3/3  PixelAcc: 0.998\n",
      "완료. 최종 PixelAcc (낮음이 보장됨): 0.9983680642187847\n"
     ]
    }
   ],
   "source": [
    "import os\n",
    "import json\n",
    "import cv2\n",
    "import numpy as np\n",
    "from PIL import Image\n",
    "\n",
    "import torch\n",
    "import torch.nn as nn\n",
    "import torch.optim as optim\n",
    "from torch.utils.data import Dataset, DataLoader, random_split\n",
    "from torchvision import transforms\n",
    "from tqdm import tqdm\n",
    "\n",
    "# ─── 1. 경로 & 하이퍼파라미터 ────────────────────────────────\n",
    "IMG_ROOT   = r'E:\\Hyunji4579 Dropbox\\Hyunji4579의 팀 폴더\\도로장애물\\Images\\CRACK'\n",
    "ANN_ROOT   = r'E:\\Hyunji4579 Dropbox\\Hyunji4579의 팀 폴더\\도로장애물\\Annotations\\CRACK'\n",
    "INPUT_SIZE = 32       # 매우 낮은 해상도\n",
    "BATCH_SIZE = 32       # 배치 크게\n",
    "NUM_EPOCHS = 3\n",
    "NUM_CLASSES= 2        # 배경 vs 크랙\n",
    "DEVICE     = torch.device('cpu')\n",
    "\n",
    "# ─── 2. Dataset 정의 ────────────────────────────────────────\n",
    "class CrackSegDataset(Dataset):\n",
    "    def __init__(self, img_root, ann_root, img_tf, mask_tf):\n",
    "        self.img_tf, self.mask_tf = img_tf, mask_tf\n",
    "        self.items = []\n",
    "        exts = ('.png', '.jpg', '.jpeg', '.webp')\n",
    "        for cls in os.listdir(img_root):\n",
    "            img_dir = os.path.join(img_root, cls)\n",
    "            ann_dir = os.path.join(ann_root, cls)\n",
    "            if not os.path.isdir(img_dir) or not os.path.isdir(ann_dir):\n",
    "                continue\n",
    "            for fn in os.listdir(img_dir):\n",
    "                if not fn.lower().endswith(exts):\n",
    "                    continue\n",
    "                jp = os.path.join(ann_dir, os.path.splitext(fn)[0] + '.json')\n",
    "                if os.path.isfile(jp):\n",
    "                    self.items.append((os.path.join(img_dir, fn), jp))\n",
    "        assert self.items, \"데이터가 없습니다.\"\n",
    "\n",
    "    def __len__(self):\n",
    "        return len(self.items)\n",
    "\n",
    "    def __getitem__(self, idx):\n",
    "        img_path, json_path = self.items[idx]\n",
    "\n",
    "        # 1) 이미지 로드: PIL로 통일 (webp도 지원 빌드라면 되지만 없으면 설치 필요)\n",
    "        img = Image.open(img_path).convert('RGB')\n",
    "        w, h = img.size\n",
    "\n",
    "        # 2) JSON → 빈 mask 생성\n",
    "        with open(json_path, 'r', encoding='utf-8') as f:\n",
    "            data = json.load(f)\n",
    "\n",
    "        mask = np.zeros((h, w), dtype=np.uint8)\n",
    "        for ann in data.get('annotations', []):\n",
    "            for poly in ann.get('polyline', []):\n",
    "                # None 값이 섞여 있거나 길이 짝수 아니면 건너뛰기\n",
    "                if poly is None or any(p is None for p in poly) or len(poly) % 2 != 0:\n",
    "                    continue\n",
    "                pts = np.array(poly, dtype=np.int32).reshape(-1, 2)\n",
    "                cv2.polylines(mask, [pts], isClosed=False, color=1, thickness=1)\n",
    "\n",
    "        mask = Image.fromarray(mask)\n",
    "\n",
    "        # 3) Transform 적용 (고정 크기)\n",
    "        img  = self.img_tf(img)\n",
    "        mask = self.mask_tf(mask).squeeze(0).long()\n",
    "\n",
    "        return img, mask\n",
    "\n",
    "# ─── 3. Transform 정의 ───────────────────────────────────────\n",
    "img_tf = transforms.Compose([\n",
    "    transforms.Resize((INPUT_SIZE, INPUT_SIZE)),  # 가로×세로 고정\n",
    "    transforms.ToTensor(),\n",
    "])\n",
    "mask_tf = transforms.Compose([\n",
    "    transforms.Resize((INPUT_SIZE, INPUT_SIZE),\n",
    "                      interpolation=transforms.InterpolationMode.NEAREST),\n",
    "    transforms.PILToTensor(),\n",
    "])\n",
    "\n",
    "# ─── 4. 아주 간단한 1×1 Conv 모델 ───────────────────────────\n",
    "class TinySegModel(nn.Module):\n",
    "    def __init__(self, num_classes):\n",
    "        super().__init__()\n",
    "        self.net = nn.Sequential(\n",
    "            nn.Conv2d(3, 16, kernel_size=1),\n",
    "            nn.ReLU(inplace=True),\n",
    "            nn.Conv2d(16, num_classes, kernel_size=1),\n",
    "        )\n",
    "    def forward(self, x):\n",
    "        return self.net(x)\n",
    "\n",
    "# ─── 5. 학습/검증 루프 ───────────────────────────────────────\n",
    "def main():\n",
    "    # DataLoader 준비\n",
    "    ds = CrackSegDataset(IMG_ROOT, ANN_ROOT, img_tf, mask_tf)\n",
    "    n_train = int(len(ds) * 0.8)\n",
    "    train_ds, val_ds = random_split(ds, [n_train, len(ds) - n_train])\n",
    "\n",
    "    train_loader = DataLoader(train_ds, batch_size=BATCH_SIZE, shuffle=True,\n",
    "                              num_workers=0, pin_memory=False)\n",
    "    val_loader   = DataLoader(val_ds,   batch_size=BATCH_SIZE, shuffle=False,\n",
    "                              num_workers=0, pin_memory=False)\n",
    "\n",
    "    # 모델/손실/옵티마이저\n",
    "    model     = TinySegModel(NUM_CLASSES).to(DEVICE)\n",
    "    criterion = nn.CrossEntropyLoss()\n",
    "    optimizer = optim.SGD(model.parameters(), lr=0.1)\n",
    "\n",
    "    best_acc = 0.0\n",
    "    for epoch in range(1, NUM_EPOCHS + 1):\n",
    "        # train\n",
    "        model.train()\n",
    "        for imgs, masks in tqdm(train_loader, desc=f'Epoch {epoch}/{NUM_EPOCHS} [Train]'):\n",
    "            imgs, masks = imgs.to(DEVICE), masks.to(DEVICE)\n",
    "            optimizer.zero_grad()\n",
    "            logits = model(imgs)\n",
    "            loss   = criterion(logits, masks)\n",
    "            loss.backward()\n",
    "            optimizer.step()\n",
    "\n",
    "        # eval\n",
    "        model.eval()\n",
    "        correct = total = 0\n",
    "        with torch.no_grad():\n",
    "            for imgs, masks in val_loader:\n",
    "                imgs, masks = imgs.to(DEVICE), masks.to(DEVICE)\n",
    "                preds = model(imgs).argmax(1)\n",
    "                correct += (preds == masks).sum().item()\n",
    "                total   += masks.numel()\n",
    "        acc = correct / total\n",
    "        print(f'Epoch {epoch}/{NUM_EPOCHS}  PixelAcc: {acc:.3f}')\n",
    "\n",
    "        if acc > best_acc:\n",
    "            best_acc = acc\n",
    "\n",
    "    print('완료. 최종 PixelAcc (낮음이 보장됨):', best_acc)\n",
    "\n",
    "if __name__ == '__main__':\n",
    "    main()\n"
   ]
  },
  {
   "cell_type": "code",
   "execution_count": null,
   "id": "28ac0f05",
   "metadata": {},
   "outputs": [
    {
     "name": "stdout",
     "output_type": "stream",
     "text": [
      "Using 16 CPU threads\n"
     ]
    },
    {
     "name": "stderr",
     "output_type": "stream",
     "text": [
      "Epoch 1/3 ▶ Train:   0%|          | 0/1128 [00:00<?, ?it/s]e:\\Anaconda\\envs\\igpu39\\lib\\site-packages\\torch\\utils\\data\\dataloader.py:665: UserWarning: 'pin_memory' argument is set as true but no accelerator is found, then device pinned memory won't be used.\n",
      "  warnings.warn(warn_msg)\n"
     ]
    }
   ],
   "source": [
    "# ─── 전체 코드: 학습 → 체크포인트 저장 → TorchScript 벤치마크 + 시각화 ─────────────────────────────\n",
    "\n",
    "import os\n",
    "import time\n",
    "import json\n",
    "import cv2\n",
    "import numpy as np\n",
    "import matplotlib.pyplot as plt\n",
    "from PIL import Image\n",
    "\n",
    "import torch\n",
    "import torch.nn as nn\n",
    "import torch.optim as optim\n",
    "from torch.utils.data import Dataset, DataLoader, random_split\n",
    "from torchvision import transforms\n",
    "from tqdm import tqdm\n",
    "from torchvision.transforms import ToPILImage\n",
    "\n",
    "# ─── 1. 설정 & 경로 ───────────────────────────────────────────────\n",
    "torch.set_num_threads(os.cpu_count())  # CPU 스레드 최대화\n",
    "DEVICE      = torch.device('cpu')\n",
    "IMG_ROOT    = r'E:\\Hyunji4579 Dropbox\\Hyunji4579의 팀 폴더\\도로장애물\\Images\\CRACK'\n",
    "ANN_ROOT    = r'E:\\Hyunji4579 Dropbox\\Hyunji4579의 팀 폴더\\도로장애물\\Annotations\\CRACK'\n",
    "INPUT_SIZE  = 32\n",
    "BATCH_SIZE  = 32\n",
    "NUM_EPOCHS  = 3\n",
    "NUM_CLASSES = 2\n",
    "BEST_FN     = 'best_tiny_seg.pth'\n",
    "SCRIPTED_FN = 'tinyseg_scripted.pt'\n",
    "\n",
    "print(f\"Using {os.cpu_count()} CPU threads\")\n",
    "\n",
    "# ─── 2. Dataset/Transform 정의 ───────────────────────────────────────\n",
    "class CrackSegDataset(Dataset):\n",
    "    def __init__(self, img_root, ann_root, img_tf, mask_tf):\n",
    "        self.img_tf, self.mask_tf = img_tf, mask_tf\n",
    "        self.items = []\n",
    "        for cls in sorted(os.listdir(img_root)):\n",
    "            d1, d2 = os.path.join(img_root,cls), os.path.join(ann_root,cls)\n",
    "            if not os.path.isdir(d1) or not os.path.isdir(d2): continue\n",
    "            for fn in sorted(os.listdir(d1)):\n",
    "                if fn.lower().endswith(('.png','.jpg','.jpeg','.webp')):\n",
    "                    jp = os.path.join(d2, fn.rsplit('.',1)[0] + '.json')\n",
    "                    if os.path.isfile(jp):\n",
    "                        self.items.append((os.path.join(d1,fn), jp))\n",
    "        assert self.items, \"데이터가 없습니다.\"\n",
    "    def __len__(self): return len(self.items)\n",
    "    def __getitem__(self, idx):\n",
    "        img_p, json_p = self.items[idx]\n",
    "        img = Image.open(img_p).convert('RGB')\n",
    "        w,h = img.size\n",
    "\n",
    "        mask = np.zeros((h,w), dtype=np.uint8)\n",
    "        with open(json_p,'r',encoding='utf-8') as f:\n",
    "            data = json.load(f)\n",
    "        for ann in data.get('annotations',[]):\n",
    "            for poly in ann.get('polyline',[]):\n",
    "                if not poly or len(poly)%2!=0 or any(p is None for p in poly):\n",
    "                    continue\n",
    "                pts = np.array(poly, np.int32).reshape(-1,2)\n",
    "                cv2.polylines(mask, [pts], False, 1, thickness=1)\n",
    "        mask = Image.fromarray(mask)\n",
    "\n",
    "        img  = self.img_tf(img)\n",
    "        mask = self.mask_tf(mask).squeeze(0).long()\n",
    "        return img, mask\n",
    "\n",
    "img_tf = transforms.Compose([\n",
    "    transforms.Resize((INPUT_SIZE,INPUT_SIZE)),\n",
    "    transforms.ToTensor(),\n",
    "])\n",
    "mask_tf = transforms.Compose([\n",
    "    transforms.Resize((INPUT_SIZE,INPUT_SIZE),\n",
    "                      interpolation=transforms.InterpolationMode.NEAREST),\n",
    "    transforms.PILToTensor(),\n",
    "])\n",
    "\n",
    "# ─── 3. 모델 정의 ───────────────────────────────────────────────────\n",
    "class TinySegModel(nn.Module):\n",
    "    def __init__(self, num_classes):\n",
    "        super().__init__()\n",
    "        self.net = nn.Sequential(\n",
    "            nn.Conv2d(3, 16, kernel_size=1),\n",
    "            nn.ReLU(inplace=True),\n",
    "            nn.Conv2d(16, num_classes, kernel_size=1),\n",
    "        )\n",
    "    def forward(self, x):\n",
    "        return self.net(x)\n",
    "\n",
    "# ─── 4. 학습/검증 루프 + 체크포인트 저장 ───────────────────────────\n",
    "# DataLoader 준비\n",
    "full_ds    = CrackSegDataset(IMG_ROOT, ANN_ROOT, img_tf, mask_tf)\n",
    "n_train    = int(len(full_ds)*0.8)\n",
    "train_ds, val_ds = random_split(full_ds, [n_train, len(full_ds)-n_train])\n",
    "train_loader = DataLoader(train_ds, batch_size=BATCH_SIZE, shuffle=True,\n",
    "                          num_workers=os.cpu_count(), pin_memory=True)\n",
    "val_loader   = DataLoader(val_ds,   batch_size=BATCH_SIZE, shuffle=False,\n",
    "                          num_workers=os.cpu_count(), pin_memory=True)\n",
    "\n",
    "model     = TinySegModel(NUM_CLASSES).to(DEVICE)\n",
    "criterion = nn.CrossEntropyLoss()\n",
    "optimizer = optim.SGD(model.parameters(), lr=0.1)\n",
    "\n",
    "best_acc = 0.0\n",
    "for epoch in range(1, NUM_EPOCHS+1):\n",
    "    # Train\n",
    "    model.train()\n",
    "    for imgs, masks in tqdm(train_loader, desc=f'Epoch {epoch}/{NUM_EPOCHS} ▶ Train'):\n",
    "        imgs, masks = imgs.to(DEVICE), masks.to(DEVICE)\n",
    "        optimizer.zero_grad()\n",
    "        loss = criterion(model(imgs), masks)\n",
    "        loss.backward()\n",
    "        optimizer.step()\n",
    "\n",
    "    # Val\n",
    "    model.eval()\n",
    "    corr = total = 0\n",
    "    with torch.no_grad():\n",
    "        for imgs, masks in val_loader:\n",
    "            imgs, masks = imgs.to(DEVICE), masks.to(DEVICE)\n",
    "            preds = model(imgs).argmax(1)\n",
    "            corr += (preds==masks).sum().item()\n",
    "            total += masks.numel()\n",
    "    acc = corr/total\n",
    "    print(f'Epoch {epoch} ▶ PixelAcc: {acc:.4f}')\n",
    "    if acc > best_acc:\n",
    "        best_acc = acc\n",
    "        torch.save(model.state_dict(), BEST_FN)\n",
    "        print(f' ↳ Saved best model ({best_acc:.4f})')\n",
    "\n",
    "print(\"▶ Training complete. Best PixelAcc:\", best_acc)\n",
    "\n",
    "# ─── 5. 모델 로드 & TorchScript 변환 ─────────────────────────────\n",
    "model.load_state_dict(torch.load(BEST_FN, map_location=DEVICE))\n",
    "model.eval()\n",
    "scripted = torch.jit.script(model)\n",
    "scripted.save(SCRIPTED_FN)\n",
    "print(f\"▶ Loaded '{BEST_FN}' and saved TorchScript to '{SCRIPTED_FN}'\")\n",
    "\n",
    "# ─── 6. 워밍업 + 벤치마크 ───────────────────────────────────────\n",
    "with torch.no_grad():\n",
    "    # warm-up\n",
    "    next(iter(val_loader))\n",
    "    for imgs, _ in val_loader:\n",
    "        _ = scripted(imgs.to(DEVICE))\n",
    "        break\n",
    "    print(\"▶ Warm-up done\")\n",
    "    start = time.time()\n",
    "    for imgs, _ in val_loader:\n",
    "        _ = scripted(imgs.to(DEVICE))\n",
    "    elapsed = time.time() - start\n",
    "\n",
    "print(f\"▶ Inference on {len(val_ds)} samples: {elapsed:.2f}s → {len(val_ds)/elapsed:.1f} img/s\")\n",
    "\n",
    "# ─── 7. 결과 시각화 (5개 샘플 오버레이) ─────────────────────────\n",
    "to_pil = ToPILImage()\n",
    "for i in range(5):\n",
    "    img, gt = val_ds[i]\n",
    "    pred    = scripted(img.unsqueeze(0).to(DEVICE)).argmax(1).squeeze(0).cpu()\n",
    "    img_np  = np.array(to_pil(img))\n",
    "    ov      = img_np.copy()\n",
    "    ov[pred.numpy()==1] = [255,0,0]\n",
    "\n",
    "    plt.figure(figsize=(9,3))\n",
    "    plt.subplot(1,3,1); plt.imshow(img_np);         plt.title(\"Input\");      plt.axis(\"off\")\n",
    "    plt.subplot(1,3,2); plt.imshow(gt.numpy(),cmap='gray'); plt.title(\"GT Mask\"); plt.axis(\"off\")\n",
    "    plt.subplot(1,3,3); plt.imshow(ov);              plt.title(\"Overlay\");   plt.axis(\"off\")\n",
    "    plt.show()\n"
   ]
  },
  {
   "cell_type": "code",
   "execution_count": null,
   "id": "703ca4f6",
   "metadata": {},
   "outputs": [
    {
     "name": "stderr",
     "output_type": "stream",
     "text": [
      "Epoch 1/3 [Train]:   0%|          | 0/1128 [00:00<?, ?it/s]"
     ]
    },
    {
     "name": "stdout",
     "output_type": "stream",
     "text": [
      "[Warning] 스킵: E:\\Hyunji4579 Dropbox\\Hyunji4579의 팀 폴더\\도로장애물\\Images\\CRACK\\C_Frontback_D01\\V0F_HY_7648_20201103_140019_E_CH0_Seoul_Sun_Frontback_Day_67731.webp → [Errno 22] Invalid argument: 'E:\\\\Hyunji4579 Dropbox\\\\Hyunji4579의 팀 폴더\\\\도로장애물\\\\Images\\\\CRACK\\\\C_Frontback_D01\\\\V0F_HY_7648_20201103_140019_E_CH0_Seoul_Sun_Frontback_Day_67731.webp'\n"
     ]
    },
    {
     "name": "stderr",
     "output_type": "stream",
     "text": [
      "Epoch 1/3 [Train]:   1%|          | 11/1128 [02:18<3:42:57, 11.98s/it]"
     ]
    },
    {
     "name": "stdout",
     "output_type": "stream",
     "text": [
      "[Warning] 스킵: E:\\Hyunji4579 Dropbox\\Hyunji4579의 팀 폴더\\도로장애물\\Images\\CRACK\\C_Frontback_E02\\V1F_HY_9567_20160212_024330_E_CH1_Seoul_Snow_Frontback_Day_92324.webp → [Errno 22] Invalid argument: 'E:\\\\Hyunji4579 Dropbox\\\\Hyunji4579의 팀 폴더\\\\도로장애물\\\\Images\\\\CRACK\\\\C_Frontback_E02\\\\V1F_HY_9567_20160212_024330_E_CH1_Seoul_Snow_Frontback_Day_92324.webp'\n"
     ]
    },
    {
     "name": "stderr",
     "output_type": "stream",
     "text": [
      "Epoch 1/3 [Train]: 100%|██████████| 1128/1128 [4:52:00<00:00, 15.53s/it] \n"
     ]
    },
    {
     "name": "stdout",
     "output_type": "stream",
     "text": [
      "Epoch 1 Metrics:\n",
      "  Accuracy : 0.9983\n",
      "  Precision: 0.0000\n",
      "  Recall   : 0.0000\n",
      "  F1-score : 0.0000\n",
      "  IoU      : 0.0000\n",
      "  R2-score : -0.0017\n"
     ]
    },
    {
     "name": "stderr",
     "output_type": "stream",
     "text": [
      "Epoch 2/3 [Train]:  26%|██▌       | 293/1128 [1:03:47<3:38:19, 15.69s/it]"
     ]
    },
    {
     "name": "stdout",
     "output_type": "stream",
     "text": [
      "[Warning] 스킵: E:\\Hyunji4579 Dropbox\\Hyunji4579의 팀 폴더\\도로장애물\\Images\\CRACK\\C_Frontback_E01\\V1F_HY_0771_20160212_014515_N_CH0_Seoul_Sun_Frontback_Day_93573.webp → [Errno 2] No such file or directory: 'E:\\\\Hyunji4579 Dropbox\\\\Hyunji4579의 팀 폴더\\\\도로장애물\\\\Annotations\\\\CRACK\\\\C_Frontback_E01\\\\V1F_HY_0771_20160212_014515_N_CH0_Seoul_Sun_Frontback_Day_93573.json'\n",
      "[Warning] 스킵: E:\\Hyunji4579 Dropbox\\Hyunji4579의 팀 폴더\\도로장애물\\Images\\CRACK\\C_Frontback_E01\\V1F_HY_1440_20201208_145820_N_CH2_Seoul_Sun_Frontback_Day_68077.webp → [Errno 22] Invalid argument: 'E:\\\\Hyunji4579 Dropbox\\\\Hyunji4579의 팀 폴더\\\\도로장애물\\\\Images\\\\CRACK\\\\C_Frontback_E01\\\\V1F_HY_1440_20201208_145820_N_CH2_Seoul_Sun_Frontback_Day_68077.webp'\n",
      "[Warning] 스킵: E:\\Hyunji4579 Dropbox\\Hyunji4579의 팀 폴더\\도로장애물\\Images\\CRACK\\C_Frontback_F01\\V2F_HY_2929_20201222_155051_N_CH0_Seoul_Sun_Frontback_Day_67923.webp → [Errno 22] Invalid argument: 'E:\\\\Hyunji4579 Dropbox\\\\Hyunji4579의 팀 폴더\\\\도로장애물\\\\Images\\\\CRACK\\\\C_Frontback_F01\\\\V2F_HY_2929_20201222_155051_N_CH0_Seoul_Sun_Frontback_Day_67923.webp'\n",
      "[Warning] 스킵: E:\\Hyunji4579 Dropbox\\Hyunji4579의 팀 폴더\\도로장애물\\Images\\CRACK\\C_Frontback_D01\\V0F_HY_8736_20201103_145335_E_CH1_Seoul_Sun_Frontback_Day_85721.webp → [Errno 22] Invalid argument: 'E:\\\\Hyunji4579 Dropbox\\\\Hyunji4579의 팀 폴더\\\\도로장애물\\\\Images\\\\CRACK\\\\C_Frontback_D01\\\\V0F_HY_8736_20201103_145335_E_CH1_Seoul_Sun_Frontback_Day_85721.webp'\n"
     ]
    },
    {
     "name": "stderr",
     "output_type": "stream",
     "text": [
      "Epoch 2/3 [Train]:  26%|██▌       | 294/1128 [1:03:57<3:16:43, 14.15s/it]"
     ]
    },
    {
     "name": "stdout",
     "output_type": "stream",
     "text": [
      "[Warning] 스킵: E:\\Hyunji4579 Dropbox\\Hyunji4579의 팀 폴더\\도로장애물\\Images\\CRACK\\C_Frontback_E02\\V2F_HY_9131_20201102_101006_N_CH0_Seoul_Sun_Frontback_Day_71937.webp → [Errno 22] Invalid argument: 'E:\\\\Hyunji4579 Dropbox\\\\Hyunji4579의 팀 폴더\\\\도로장애물\\\\Annotations\\\\CRACK\\\\C_Frontback_E02\\\\V2F_HY_9131_20201102_101006_N_CH0_Seoul_Sun_Frontback_Day_71937.json'\n"
     ]
    },
    {
     "name": "stderr",
     "output_type": "stream",
     "text": [
      "Epoch 2/3 [Train]:  26%|██▌       | 295/1128 [1:04:03<2:39:14, 11.47s/it]"
     ]
    },
    {
     "name": "stdout",
     "output_type": "stream",
     "text": [
      "[Warning] 스킵: E:\\Hyunji4579 Dropbox\\Hyunji4579의 팀 폴더\\도로장애물\\Images\\CRACK\\C_Frontback_D02\\V1F_HY_8037_20160212_024000_E_CH1_Seoul_Sun_Frontback_Sunset_48165.webp → [Errno 22] Invalid argument: 'E:\\\\Hyunji4579 Dropbox\\\\Hyunji4579의 팀 폴더\\\\도로장애물\\\\Annotations\\\\CRACK\\\\C_Frontback_D02\\\\V1F_HY_8037_20160212_024000_E_CH1_Seoul_Sun_Frontback_Sunset_48165.json'\n",
      "[Warning] 스킵: E:\\Hyunji4579 Dropbox\\Hyunji4579의 팀 폴더\\도로장애물\\Images\\CRACK\\C_Frontback_E02\\V2F_HY_4712_20210111_104027_N_CH2_Seoul_Snow_Frontback_Sunset_24053.webp → [Errno 22] Invalid argument: 'E:\\\\Hyunji4579 Dropbox\\\\Hyunji4579의 팀 폴더\\\\도로장애물\\\\Images\\\\CRACK\\\\C_Frontback_E02\\\\V2F_HY_4712_20210111_104027_N_CH2_Seoul_Snow_Frontback_Sunset_24053.webp'\n",
      "[Warning] 스킵: E:\\Hyunji4579 Dropbox\\Hyunji4579의 팀 폴더\\도로장애물\\Images\\CRACK\\C_Frontback_E02\\V2F_HY_2256_20201102_101006_N_CH0_Seoul_Sun_Frontback_Day_91108.webp → [Errno 22] Invalid argument: 'E:\\\\Hyunji4579 Dropbox\\\\Hyunji4579의 팀 폴더\\\\도로장애물\\\\Annotations\\\\CRACK\\\\C_Frontback_E02\\\\V2F_HY_2256_20201102_101006_N_CH0_Seoul_Sun_Frontback_Day_91108.json'\n",
      "[Warning] 스킵: E:\\Hyunji4579 Dropbox\\Hyunji4579의 팀 폴더\\도로장애물\\Images\\CRACK\\C_Frontback_E01\\V1F_HY_1714_20160212_024330_E_CH0_Seoul_Snow_Frontback_Day_79387.webp → [Errno 22] Invalid argument: 'E:\\\\Hyunji4579 Dropbox\\\\Hyunji4579의 팀 폴더\\\\도로장애물\\\\Annotations\\\\CRACK\\\\C_Frontback_E01\\\\V1F_HY_1714_20160212_024330_E_CH0_Seoul_Snow_Frontback_Day_79387.json'\n",
      "[Warning] 스킵: E:\\Hyunji4579 Dropbox\\Hyunji4579의 팀 폴더\\도로장애물\\Images\\CRACK\\C_Frontback_D02\\V2F_HY_1336_20210111_103926_N_CH0_Seoul_Snow_Frontback_Day_66139.webp → [Errno 22] Invalid argument: 'E:\\\\Hyunji4579 Dropbox\\\\Hyunji4579의 팀 폴더\\\\도로장애물\\\\Images\\\\CRACK\\\\C_Frontback_D02\\\\V2F_HY_1336_20210111_103926_N_CH0_Seoul_Snow_Frontback_Day_66139.webp'\n"
     ]
    },
    {
     "name": "stderr",
     "output_type": "stream",
     "text": [
      "Epoch 2/3 [Train]:  26%|██▌       | 296/1128 [1:04:07<2:10:00,  9.38s/it]"
     ]
    },
    {
     "name": "stdout",
     "output_type": "stream",
     "text": [
      "[Warning] 스킵: E:\\Hyunji4579 Dropbox\\Hyunji4579의 팀 폴더\\도로장애물\\Images\\CRACK\\C_Frontback_E01\\V1F_HY_1684_20160212_020318_N_CH0_Seoul_Cloud_Frontback_Day_11404.webp → [Errno 22] Invalid argument: 'E:\\\\Hyunji4579 Dropbox\\\\Hyunji4579의 팀 폴더\\\\도로장애물\\\\Annotations\\\\CRACK\\\\C_Frontback_E01\\\\V1F_HY_1684_20160212_020318_N_CH0_Seoul_Cloud_Frontback_Day_11404.json'\n",
      "[Warning] 스킵: E:\\Hyunji4579 Dropbox\\Hyunji4579의 팀 폴더\\도로장애물\\Images\\CRACK\\C_Frontback_G02\\V3F_HY_9823_20160212_013714_E_CH1_Seoul_Cloud_Frontback_Day_05264.webp → [Errno 22] Invalid argument: 'E:\\\\Hyunji4579 Dropbox\\\\Hyunji4579의 팀 폴더\\\\도로장애물\\\\Annotations\\\\CRACK\\\\C_Frontback_G02\\\\V3F_HY_9823_20160212_013714_E_CH1_Seoul_Cloud_Frontback_Day_05264.json'\n",
      "[Warning] 스킵: E:\\Hyunji4579 Dropbox\\Hyunji4579의 팀 폴더\\도로장애물\\Images\\CRACK\\C_Frontback_E02\\V1F_HY_8184_20160212_015818_N_CH1_Seoul_Cloud_Frontback_Day_62946.webp → [Errno 22] Invalid argument: 'E:\\\\Hyunji4579 Dropbox\\\\Hyunji4579의 팀 폴더\\\\도로장애물\\\\Images\\\\CRACK\\\\C_Frontback_E02\\\\V1F_HY_8184_20160212_015818_N_CH1_Seoul_Cloud_Frontback_Day_62946.webp'\n"
     ]
    },
    {
     "name": "stderr",
     "output_type": "stream",
     "text": [
      "Epoch 2/3 [Train]:  26%|██▋       | 298/1128 [1:04:15<1:30:55,  6.57s/it]"
     ]
    },
    {
     "name": "stdout",
     "output_type": "stream",
     "text": [
      "[Warning] 스킵: E:\\Hyunji4579 Dropbox\\Hyunji4579의 팀 폴더\\도로장애물\\Images\\CRACK\\C_Frontback_D02\\V1F_HY_7441_20160212_014714_N_CH0_Seoul_Snow_Frontback_Day_13391.webp → [Errno 22] Invalid argument: 'E:\\\\Hyunji4579 Dropbox\\\\Hyunji4579의 팀 폴더\\\\도로장애물\\\\Images\\\\CRACK\\\\C_Frontback_D02\\\\V1F_HY_7441_20160212_014714_N_CH0_Seoul_Snow_Frontback_Day_13391.webp'\n",
      "[Warning] 스킵: E:\\Hyunji4579 Dropbox\\Hyunji4579의 팀 폴더\\도로장애물\\Images\\CRACK\\C_Frontback_E01\\V1F_HY_6007_20160212_024130_N_CH0_Seoul_Snow_Frontback_Day_82927.webp → [Errno 22] Invalid argument: 'E:\\\\Hyunji4579 Dropbox\\\\Hyunji4579의 팀 폴더\\\\도로장애물\\\\Images\\\\CRACK\\\\C_Frontback_E01\\\\V1F_HY_6007_20160212_024130_N_CH0_Seoul_Snow_Frontback_Day_82927.webp'\n"
     ]
    },
    {
     "name": "stderr",
     "output_type": "stream",
     "text": [
      "Epoch 2/3 [Train]:  27%|██▋       | 299/1128 [1:04:19<1:19:43,  5.77s/it]"
     ]
    },
    {
     "name": "stdout",
     "output_type": "stream",
     "text": [
      "[Warning] 스킵: E:\\Hyunji4579 Dropbox\\Hyunji4579의 팀 폴더\\도로장애물\\Images\\CRACK\\C_Frontback_E01\\V1F_HY_5766_20160212_015833_N_CH1_Seoul_Sun_Frontback_Day_63396.webp → [Errno 22] Invalid argument: 'E:\\\\Hyunji4579 Dropbox\\\\Hyunji4579의 팀 폴더\\\\도로장애물\\\\Images\\\\CRACK\\\\C_Frontback_E01\\\\V1F_HY_5766_20160212_015833_N_CH1_Seoul_Sun_Frontback_Day_63396.webp'\n",
      "[Warning] 스킵: E:\\Hyunji4579 Dropbox\\Hyunji4579의 팀 폴더\\도로장애물\\Images\\CRACK\\C_Frontback_D01\\V0F_HY_4512_20210104_114352_E_CH0_Seoul_Sun_Frontback_Day_43201.webp → [Errno 22] Invalid argument: 'E:\\\\Hyunji4579 Dropbox\\\\Hyunji4579의 팀 폴더\\\\도로장애물\\\\Images\\\\CRACK\\\\C_Frontback_D01\\\\V0F_HY_4512_20210104_114352_E_CH0_Seoul_Sun_Frontback_Day_43201.webp'\n",
      "[Warning] 스킵: E:\\Hyunji4579 Dropbox\\Hyunji4579의 팀 폴더\\도로장애물\\Images\\CRACK\\C_Frontback_E02\\V2F_HY_6054_20210111_105528_N_CH2_Seoul_Cloud_Frontback_Day_20069.webp → [Errno 22] Invalid argument: 'E:\\\\Hyunji4579 Dropbox\\\\Hyunji4579의 팀 폴더\\\\도로장애물\\\\Annotations\\\\CRACK\\\\C_Frontback_E02\\\\V2F_HY_6054_20210111_105528_N_CH2_Seoul_Cloud_Frontback_Day_20069.json'\n",
      "[Warning] 스킵: E:\\Hyunji4579 Dropbox\\Hyunji4579의 팀 폴더\\도로장애물\\Images\\CRACK\\C_Frontback_D02\\V1F_HY_9655_20160212_020114_N_CH0_Seoul_Snow_Frontback_Day_14941.webp → [Errno 22] Invalid argument: 'E:\\\\Hyunji4579 Dropbox\\\\Hyunji4579의 팀 폴더\\\\도로장애물\\\\Annotations\\\\CRACK\\\\C_Frontback_D02\\\\V1F_HY_9655_20160212_020114_N_CH0_Seoul_Snow_Frontback_Day_14941.json'\n",
      "[Warning] 스킵: E:\\Hyunji4579 Dropbox\\Hyunji4579의 팀 폴더\\도로장애물\\Images\\CRACK\\C_Frontback_D01\\V0F_HY_6376_20201221_165507_E_CH1_Seoul_Sun_Frontback_Day_73060.webp → [Errno 22] Invalid argument: 'E:\\\\Hyunji4579 Dropbox\\\\Hyunji4579의 팀 폴더\\\\도로장애물\\\\Annotations\\\\CRACK\\\\C_Frontback_D01\\\\V0F_HY_6376_20201221_165507_E_CH1_Seoul_Sun_Frontback_Day_73060.json'\n"
     ]
    },
    {
     "name": "stderr",
     "output_type": "stream",
     "text": [
      "Epoch 2/3 [Train]:  27%|██▋       | 300/1128 [1:04:23<1:11:25,  5.18s/it]"
     ]
    },
    {
     "name": "stdout",
     "output_type": "stream",
     "text": [
      "[Warning] 스킵: E:\\Hyunji4579 Dropbox\\Hyunji4579의 팀 폴더\\도로장애물\\Images\\CRACK\\C_Frontback_E02\\V1F_HY_9022_20160212_013615_N_CH1_Seoul_Sun_Frontback_Day_05207.webp → [Errno 22] Invalid argument: 'E:\\\\Hyunji4579 Dropbox\\\\Hyunji4579의 팀 폴더\\\\도로장애물\\\\Annotations\\\\CRACK\\\\C_Frontback_E02\\\\V1F_HY_9022_20160212_013615_N_CH1_Seoul_Sun_Frontback_Day_05207.json'\n",
      "[Warning] 스킵: E:\\Hyunji4579 Dropbox\\Hyunji4579의 팀 폴더\\도로장애물\\Images\\CRACK\\C_Frontback_F01\\V2F_HY_6530_20201221_122715_E_CH0_Seoul_Sun_Frontback_Day_47838.webp → [Errno 22] Invalid argument: 'E:\\\\Hyunji4579 Dropbox\\\\Hyunji4579의 팀 폴더\\\\도로장애물\\\\Annotations\\\\CRACK\\\\C_Frontback_F01\\\\V2F_HY_6530_20201221_122715_E_CH0_Seoul_Sun_Frontback_Day_47838.json'\n",
      "[Warning] 스킵: E:\\Hyunji4579 Dropbox\\Hyunji4579의 팀 폴더\\도로장애물\\Images\\CRACK\\C_Frontback_F01\\V2F_HY_4351_20201102_115816_N_CH0_Seoul_Sun_Frontback_Day_03569.webp → [Errno 22] Invalid argument: 'E:\\\\Hyunji4579 Dropbox\\\\Hyunji4579의 팀 폴더\\\\도로장애물\\\\Annotations\\\\CRACK\\\\C_Frontback_F01\\\\V2F_HY_4351_20201102_115816_N_CH0_Seoul_Sun_Frontback_Day_03569.json'\n",
      "[Warning] 스킵: E:\\Hyunji4579 Dropbox\\Hyunji4579의 팀 폴더\\도로장애물\\Images\\CRACK\\C_Frontback_D02\\V2F_HY_5368_20210111_103625_E_CH0_Seoul_Cloud_Frontback_Day_04150.webp → [Errno 22] Invalid argument: 'E:\\\\Hyunji4579 Dropbox\\\\Hyunji4579의 팀 폴더\\\\도로장애물\\\\Images\\\\CRACK\\\\C_Frontback_D02\\\\V2F_HY_5368_20210111_103625_E_CH0_Seoul_Cloud_Frontback_Day_04150.webp'\n",
      "[Warning] 스킵: E:\\Hyunji4579 Dropbox\\Hyunji4579의 팀 폴더\\도로장애물\\Images\\CRACK\\C_Frontback_D01\\V0F_HY_3465_20201105_122802_E_CH1_Seoul_Sun_Frontback_Day_01110.webp → [Errno 22] Invalid argument: 'E:\\\\Hyunji4579 Dropbox\\\\Hyunji4579의 팀 폴더\\\\도로장애물\\\\Images\\\\CRACK\\\\C_Frontback_D01\\\\V0F_HY_3465_20201105_122802_E_CH1_Seoul_Sun_Frontback_Day_01110.webp'\n"
     ]
    },
    {
     "name": "stderr",
     "output_type": "stream",
     "text": [
      "Epoch 2/3 [Train]:  27%|██▋       | 301/1128 [1:04:26<1:05:17,  4.74s/it]"
     ]
    },
    {
     "name": "stdout",
     "output_type": "stream",
     "text": [
      "[Warning] 스킵: E:\\Hyunji4579 Dropbox\\Hyunji4579의 팀 폴더\\도로장애물\\Images\\CRACK\\C_Frontback_E02\\V1F_HY_9933_20160212_015017_N_CH0_Seoul_Cloud_Frontback_Day_62860.webp → [Errno 22] Invalid argument: 'E:\\\\Hyunji4579 Dropbox\\\\Hyunji4579의 팀 폴더\\\\도로장애물\\\\Images\\\\CRACK\\\\C_Frontback_E02\\\\V1F_HY_9933_20160212_015017_N_CH0_Seoul_Cloud_Frontback_Day_62860.webp'\n",
      "[Warning] 스킵: E:\\Hyunji4579 Dropbox\\Hyunji4579의 팀 폴더\\도로장애물\\Images\\CRACK\\C_Frontback_E02\\V2F_HY_4872_20201102_102754_E_CH1_Seoul_Sun_Frontback_Day_88789.webp → [Errno 22] Invalid argument: 'E:\\\\Hyunji4579 Dropbox\\\\Hyunji4579의 팀 폴더\\\\도로장애물\\\\Images\\\\CRACK\\\\C_Frontback_E02\\\\V2F_HY_4872_20201102_102754_E_CH1_Seoul_Sun_Frontback_Day_88789.webp'\n",
      "[Warning] 스킵: E:\\Hyunji4579 Dropbox\\Hyunji4579의 팀 폴더\\도로장애물\\Images\\CRACK\\C_Frontback_G02\\V3F_HY_6861_20160212_014414_N_CH0_Seoul_Cloud_Frontback_Day_92374.webp → [Errno 22] Invalid argument: 'E:\\\\Hyunji4579 Dropbox\\\\Hyunji4579의 팀 폴더\\\\도로장애물\\\\Images\\\\CRACK\\\\C_Frontback_G02\\\\V3F_HY_6861_20160212_014414_N_CH0_Seoul_Cloud_Frontback_Day_92374.webp'\n",
      "[Warning] 스킵: E:\\Hyunji4579 Dropbox\\Hyunji4579의 팀 폴더\\도로장애물\\Images\\CRACK\\C_Frontback_D01\\V0F_HY_4410_20201222_151558_E_CH1_Seoul_Sun_Frontback_Day_96042.webp → [Errno 22] Invalid argument: 'E:\\\\Hyunji4579 Dropbox\\\\Hyunji4579의 팀 폴더\\\\도로장애물\\\\Annotations\\\\CRACK\\\\C_Frontback_D01\\\\V0F_HY_4410_20201222_151558_E_CH1_Seoul_Sun_Frontback_Day_96042.json'\n",
      "[Warning] 스킵: E:\\Hyunji4579 Dropbox\\Hyunji4579의 팀 폴더\\도로장애물\\Images\\CRACK\\C_Frontback_E01\\V1F_HY_5479_20201208_160554_N_CH0_Seoul_Sun_Frontback_Day_01979.webp → [Errno 22] Invalid argument: 'E:\\\\Hyunji4579 Dropbox\\\\Hyunji4579의 팀 폴더\\\\도로장애물\\\\Annotations\\\\CRACK\\\\C_Frontback_E01\\\\V1F_HY_5479_20201208_160554_N_CH0_Seoul_Sun_Frontback_Day_01979.json'\n"
     ]
    },
    {
     "name": "stderr",
     "output_type": "stream",
     "text": [
      "Epoch 2/3 [Train]:  27%|██▋       | 302/1128 [1:04:31<1:03:02,  4.58s/it]"
     ]
    },
    {
     "name": "stdout",
     "output_type": "stream",
     "text": [
      "[Warning] 스킵: E:\\Hyunji4579 Dropbox\\Hyunji4579의 팀 폴더\\도로장애물\\Images\\CRACK\\C_Frontback_G02\\V3F_HY_6526_20201102_134232_E_CH0_Seoul_Sun_Frontback_Day_55939.webp → [Errno 22] Invalid argument: 'E:\\\\Hyunji4579 Dropbox\\\\Hyunji4579의 팀 폴더\\\\도로장애물\\\\Images\\\\CRACK\\\\C_Frontback_G02\\\\V3F_HY_6526_20201102_134232_E_CH0_Seoul_Sun_Frontback_Day_55939.webp'\n",
      "[Warning] 스킵: E:\\Hyunji4579 Dropbox\\Hyunji4579의 팀 폴더\\도로장애물\\Images\\CRACK\\C_Frontback_D02\\V1F_HY_6907_20160212_023600_E_CH0_Seoul_Sun_Frontback_Sunset_01804.webp → [Errno 22] Invalid argument: 'E:\\\\Hyunji4579 Dropbox\\\\Hyunji4579의 팀 폴더\\\\도로장애물\\\\Annotations\\\\CRACK\\\\C_Frontback_D02\\\\V1F_HY_6907_20160212_023600_E_CH0_Seoul_Sun_Frontback_Sunset_01804.json'\n",
      "[Warning] 스킵: E:\\Hyunji4579 Dropbox\\Hyunji4579의 팀 폴더\\도로장애물\\Images\\CRACK\\C_Frontback_E02\\V2F_HY_3368_20201102_102654_E_CH0_Seoul_Sun_Frontback_Day_31767.webp → [Errno 22] Invalid argument: 'E:\\\\Hyunji4579 Dropbox\\\\Hyunji4579의 팀 폴더\\\\도로장애물\\\\Annotations\\\\CRACK\\\\C_Frontback_E02\\\\V2F_HY_3368_20201102_102654_E_CH0_Seoul_Sun_Frontback_Day_31767.json'\n",
      "[Warning] 스킵: E:\\Hyunji4579 Dropbox\\Hyunji4579의 팀 폴더\\도로장애물\\Images\\CRACK\\C_Frontback_E01\\V1F_HY_1548_20160212_020314_E_CH1_Seoul_Snow_Frontback_Day_23555.webp → [Errno 22] Invalid argument: 'E:\\\\Hyunji4579 Dropbox\\\\Hyunji4579의 팀 폴더\\\\도로장애물\\\\Annotations\\\\CRACK\\\\C_Frontback_E01\\\\V1F_HY_1548_20160212_020314_E_CH1_Seoul_Snow_Frontback_Day_23555.json'\n",
      "[Warning] 스킵: E:\\Hyunji4579 Dropbox\\Hyunji4579의 팀 폴더\\도로장애물\\Images\\CRACK\\C_Frontback_E01\\V1F_HY_1998_20160212_013615_N_CH1_Seoul_Sun_Frontback_Day_24958.webp → [Errno 22] Invalid argument: 'E:\\\\Hyunji4579 Dropbox\\\\Hyunji4579의 팀 폴더\\\\도로장애물\\\\Annotations\\\\CRACK\\\\C_Frontback_E01\\\\V1F_HY_1998_20160212_013615_N_CH1_Seoul_Sun_Frontback_Day_24958.json'\n"
     ]
    },
    {
     "name": "stderr",
     "output_type": "stream",
     "text": [
      "Epoch 2/3 [Train]:  27%|██▋       | 303/1128 [1:04:35<1:01:58,  4.51s/it]"
     ]
    },
    {
     "name": "stdout",
     "output_type": "stream",
     "text": [
      "[Warning] 스킵: E:\\Hyunji4579 Dropbox\\Hyunji4579의 팀 폴더\\도로장애물\\Images\\CRACK\\C_Frontback_E01\\V1F_HY_7158_20160212_014515_N_CH0_Seoul_Sun_Frontback_Day_60454.webp → [Errno 22] Invalid argument: 'E:\\\\Hyunji4579 Dropbox\\\\Hyunji4579의 팀 폴더\\\\도로장애물\\\\Annotations\\\\CRACK\\\\C_Frontback_E01\\\\V1F_HY_7158_20160212_014515_N_CH0_Seoul_Sun_Frontback_Day_60454.json'\n",
      "[Warning] 스킵: E:\\Hyunji4579 Dropbox\\Hyunji4579의 팀 폴더\\도로장애물\\Images\\CRACK\\C_Frontback_D01\\V0F_HY_8924_20201209_130743_E_CH1_Seoul_Sun_Frontback_Day_22929.webp → [Errno 22] Invalid argument: 'E:\\\\Hyunji4579 Dropbox\\\\Hyunji4579의 팀 폴더\\\\도로장애물\\\\Images\\\\CRACK\\\\C_Frontback_D01\\\\V0F_HY_8924_20201209_130743_E_CH1_Seoul_Sun_Frontback_Day_22929.webp'\n",
      "[Warning] 스킵: E:\\Hyunji4579 Dropbox\\Hyunji4579의 팀 폴더\\도로장애물\\Images\\CRACK\\C_Frontback_E01\\V1F_HY_5456_20201208_142304_E_CH1_Seoul_Sun_Frontback_Day_22162.webp → [Errno 22] Invalid argument: 'E:\\\\Hyunji4579 Dropbox\\\\Hyunji4579의 팀 폴더\\\\도로장애물\\\\Annotations\\\\CRACK\\\\C_Frontback_E01\\\\V1F_HY_5456_20201208_142304_E_CH1_Seoul_Sun_Frontback_Day_22162.json'\n",
      "[Warning] 스킵: E:\\Hyunji4579 Dropbox\\Hyunji4579의 팀 폴더\\도로장애물\\Images\\CRACK\\C_Frontback_F01\\V2F_HY_4919_20201102_113708_E_CH1_Seoul_Sun_Frontback_Day_24332.webp → [Errno 22] Invalid argument: 'E:\\\\Hyunji4579 Dropbox\\\\Hyunji4579의 팀 폴더\\\\도로장애물\\\\Annotations\\\\CRACK\\\\C_Frontback_F01\\\\V2F_HY_4919_20201102_113708_E_CH1_Seoul_Sun_Frontback_Day_24332.json'\n",
      "[Warning] 스킵: E:\\Hyunji4579 Dropbox\\Hyunji4579의 팀 폴더\\도로장애물\\Images\\CRACK\\C_Frontback_E02\\V2F_HY_6602_20210111_104027_E_CH0_Seoul_Cloud_Frontback_Day_76253.webp → [Errno 22] Invalid argument: 'E:\\\\Hyunji4579 Dropbox\\\\Hyunji4579의 팀 폴더\\\\도로장애물\\\\Images\\\\CRACK\\\\C_Frontback_E02\\\\V2F_HY_6602_20210111_104027_E_CH0_Seoul_Cloud_Frontback_Day_76253.webp'\n",
      "[Warning] 스킵: E:\\Hyunji4579 Dropbox\\Hyunji4579의 팀 폴더\\도로장애물\\Images\\CRACK\\C_Frontback_D01\\V0F_HY_4203_20201222_152958_E_CH0_Seoul_Sun_Frontback_Day_18157.webp → [Errno 22] Invalid argument: 'E:\\\\Hyunji4579 Dropbox\\\\Hyunji4579의 팀 폴더\\\\도로장애물\\\\Images\\\\CRACK\\\\C_Frontback_D01\\\\V0F_HY_4203_20201222_152958_E_CH0_Seoul_Sun_Frontback_Day_18157.webp'\n"
     ]
    },
    {
     "name": "stderr",
     "output_type": "stream",
     "text": [
      "Epoch 2/3 [Train]:  27%|██▋       | 304/1128 [1:04:39<59:51,  4.36s/it]  "
     ]
    },
    {
     "name": "stdout",
     "output_type": "stream",
     "text": [
      "[Warning] 스킵: E:\\Hyunji4579 Dropbox\\Hyunji4579의 팀 폴더\\도로장애물\\Images\\CRACK\\C_Frontback_E01\\V1F_HY_2885_20160212_021909_N_CH0_Seoul_Sun_Frontback_Day_89614.webp → [Errno 22] Invalid argument: 'E:\\\\Hyunji4579 Dropbox\\\\Hyunji4579의 팀 폴더\\\\도로장애물\\\\Images\\\\CRACK\\\\C_Frontback_E01\\\\V1F_HY_2885_20160212_021909_N_CH0_Seoul_Sun_Frontback_Day_89614.webp'\n",
      "[Warning] 스킵: E:\\Hyunji4579 Dropbox\\Hyunji4579의 팀 폴더\\도로장애물\\Images\\CRACK\\C_Frontback_D02\\V2F_HY_2222_20210111_103926_N_CH1_Seoul_Cloud_Frontback_Day_29870.webp → [Errno 22] Invalid argument: 'E:\\\\Hyunji4579 Dropbox\\\\Hyunji4579의 팀 폴더\\\\도로장애물\\\\Images\\\\CRACK\\\\C_Frontback_D02\\\\V2F_HY_2222_20210111_103926_N_CH1_Seoul_Cloud_Frontback_Day_29870.webp'\n",
      "[Warning] 스킵: E:\\Hyunji4579 Dropbox\\Hyunji4579의 팀 폴더\\도로장애물\\Images\\CRACK\\C_Frontback_E02\\V1F_HY_8923_20160212_025334_E_CH0_Seoul_Sun_Frontback_Day_06132.webp → [Errno 22] Invalid argument: 'E:\\\\Hyunji4579 Dropbox\\\\Hyunji4579의 팀 폴더\\\\도로장애물\\\\Annotations\\\\CRACK\\\\C_Frontback_E02\\\\V1F_HY_8923_20160212_025334_E_CH0_Seoul_Sun_Frontback_Day_06132.json'\n",
      "[Warning] 스킵: E:\\Hyunji4579 Dropbox\\Hyunji4579의 팀 폴더\\도로장애물\\Images\\CRACK\\C_Frontback_F01\\V0F_HY_9811_20201228_151055_E_CH1_Seoul_Sun_Frontback_Day_36153.webp → [Errno 22] Invalid argument: 'E:\\\\Hyunji4579 Dropbox\\\\Hyunji4579의 팀 폴더\\\\도로장애물\\\\Images\\\\CRACK\\\\C_Frontback_F01\\\\V0F_HY_9811_20201228_151055_E_CH1_Seoul_Sun_Frontback_Day_36153.webp'\n"
     ]
    },
    {
     "name": "stderr",
     "output_type": "stream",
     "text": [
      "Epoch 2/3 [Train]:  27%|██▋       | 305/1128 [1:04:43<58:43,  4.28s/it]"
     ]
    },
    {
     "name": "stdout",
     "output_type": "stream",
     "text": [
      "[Warning] 스킵: E:\\Hyunji4579 Dropbox\\Hyunji4579의 팀 폴더\\도로장애물\\Images\\CRACK\\C_Frontback_F02\\V2F_HY_9928_20201222_151938_N_CH0_Seoul_Sun_Frontback_Day_92737.webp → [Errno 22] Invalid argument: 'E:\\\\Hyunji4579 Dropbox\\\\Hyunji4579의 팀 폴더\\\\도로장애물\\\\Annotations\\\\CRACK\\\\C_Frontback_F02\\\\V2F_HY_9928_20201222_151938_N_CH0_Seoul_Sun_Frontback_Day_92737.json'\n",
      "[Warning] 스킵: E:\\Hyunji4579 Dropbox\\Hyunji4579의 팀 폴더\\도로장애물\\Images\\CRACK\\C_Frontback_F01\\V2F_HY_2312_20201102_115916_N_CH2_Seoul_Sun_Frontback_Day_49303.webp → [Errno 22] Invalid argument: 'E:\\\\Hyunji4579 Dropbox\\\\Hyunji4579의 팀 폴더\\\\도로장애물\\\\Annotations\\\\CRACK\\\\C_Frontback_F01\\\\V2F_HY_2312_20201102_115916_N_CH2_Seoul_Sun_Frontback_Day_49303.json'\n",
      "[Warning] 스킵: E:\\Hyunji4579 Dropbox\\Hyunji4579의 팀 폴더\\도로장애물\\Images\\CRACK\\C_Frontback_D02\\V2F_HY_0800_20210111_103926_N_CH0_Seoul_Cloud_Frontback_Day_02733.webp → [Errno 22] Invalid argument: 'E:\\\\Hyunji4579 Dropbox\\\\Hyunji4579의 팀 폴더\\\\도로장애물\\\\Images\\\\CRACK\\\\C_Frontback_D02\\\\V2F_HY_0800_20210111_103926_N_CH0_Seoul_Cloud_Frontback_Day_02733.webp'\n"
     ]
    },
    {
     "name": "stderr",
     "output_type": "stream",
     "text": [
      "Epoch 2/3 [Train]:  27%|██▋       | 306/1128 [1:04:47<56:45,  4.14s/it]"
     ]
    },
    {
     "name": "stdout",
     "output_type": "stream",
     "text": [
      "[Warning] 스킵: E:\\Hyunji4579 Dropbox\\Hyunji4579의 팀 폴더\\도로장애물\\Images\\CRACK\\C_Frontback_E01\\V1F_HY_7372_20201208_142304_E_CH2_Seoul_Sun_Frontback_Day_02425.webp → [Errno 22] Invalid argument: 'E:\\\\Hyunji4579 Dropbox\\\\Hyunji4579의 팀 폴더\\\\도로장애물\\\\Annotations\\\\CRACK\\\\C_Frontback_E01\\\\V1F_HY_7372_20201208_142304_E_CH2_Seoul_Sun_Frontback_Day_02425.json'\n",
      "[Warning] 스킵: E:\\Hyunji4579 Dropbox\\Hyunji4579의 팀 폴더\\도로장애물\\Images\\CRACK\\C_Frontback_E02\\V2F_HY_2806_20201102_101206_N_CH2_Seoul_Sun_Frontback_Day_89200.webp → [Errno 22] Invalid argument: 'E:\\\\Hyunji4579 Dropbox\\\\Hyunji4579의 팀 폴더\\\\도로장애물\\\\Images\\\\CRACK\\\\C_Frontback_E02\\\\V2F_HY_2806_20201102_101206_N_CH2_Seoul_Sun_Frontback_Day_89200.webp'\n"
     ]
    },
    {
     "name": "stderr",
     "output_type": "stream",
     "text": [
      "Epoch 2/3 [Train]:  27%|██▋       | 307/1128 [1:04:51<56:03,  4.10s/it]"
     ]
    },
    {
     "name": "stdout",
     "output_type": "stream",
     "text": [
      "[Warning] 스킵: E:\\Hyunji4579 Dropbox\\Hyunji4579의 팀 폴더\\도로장애물\\Images\\CRACK\\C_Frontback_E01\\V1F_HY_0590_20160212_021909_N_CH1_Seoul_Sun_Frontback_Day_80236.webp → [Errno 22] Invalid argument: 'E:\\\\Hyunji4579 Dropbox\\\\Hyunji4579의 팀 폴더\\\\도로장애물\\\\Annotations\\\\CRACK\\\\C_Frontback_E01\\\\V1F_HY_0590_20160212_021909_N_CH1_Seoul_Sun_Frontback_Day_80236.json'\n",
      "[Warning] 스킵: E:\\Hyunji4579 Dropbox\\Hyunji4579의 팀 폴더\\도로장애물\\Images\\CRACK\\C_Frontback_G02\\V3F_HY_8711_20201102_132732_N_CH2_Seoul_Sun_Frontback_Day_41446.webp → [Errno 22] Invalid argument: 'E:\\\\Hyunji4579 Dropbox\\\\Hyunji4579의 팀 폴더\\\\도로장애물\\\\Images\\\\CRACK\\\\C_Frontback_G02\\\\V3F_HY_8711_20201102_132732_N_CH2_Seoul_Sun_Frontback_Day_41446.webp'\n",
      "[Warning] 스킵: E:\\Hyunji4579 Dropbox\\Hyunji4579의 팀 폴더\\도로장애물\\Images\\CRACK\\C_Frontback_D01\\V0F_HY_2599_20201211_134840_N_CH0_Seoul_Cloud_Frontback_Day_39597.webp → [Errno 22] Invalid argument: 'E:\\\\Hyunji4579 Dropbox\\\\Hyunji4579의 팀 폴더\\\\도로장애물\\\\Images\\\\CRACK\\\\C_Frontback_D01\\\\V0F_HY_2599_20201211_134840_N_CH0_Seoul_Cloud_Frontback_Day_39597.webp'\n"
     ]
    },
    {
     "name": "stderr",
     "output_type": "stream",
     "text": [
      "Epoch 2/3 [Train]:  27%|██▋       | 308/1128 [1:04:54<54:01,  3.95s/it]"
     ]
    },
    {
     "name": "stdout",
     "output_type": "stream",
     "text": [
      "[Warning] 스킵: E:\\Hyunji4579 Dropbox\\Hyunji4579의 팀 폴더\\도로장애물\\Images\\CRACK\\C_Frontback_E01\\V1F_HY_4775_20160212_020709_E_CH0_Seoul_Sun_Frontback_Day_68516.webp → [Errno 22] Invalid argument: 'E:\\\\Hyunji4579 Dropbox\\\\Hyunji4579의 팀 폴더\\\\도로장애물\\\\Annotations\\\\CRACK\\\\C_Frontback_E01\\\\V1F_HY_4775_20160212_020709_E_CH0_Seoul_Sun_Frontback_Day_68516.json'\n",
      "[Warning] 스킵: E:\\Hyunji4579 Dropbox\\Hyunji4579의 팀 폴더\\도로장애물\\Images\\CRACK\\C_Frontback_F01\\V2F_HY_7598_20201222_155051_E_CH0_Seoul_Sun_Frontback_Day_41241.webp → [Errno 22] Invalid argument: 'E:\\\\Hyunji4579 Dropbox\\\\Hyunji4579의 팀 폴더\\\\도로장애물\\\\Images\\\\CRACK\\\\C_Frontback_F01\\\\V2F_HY_7598_20201222_155051_E_CH0_Seoul_Sun_Frontback_Day_41241.webp'\n",
      "[Warning] 스킵: E:\\Hyunji4579 Dropbox\\Hyunji4579의 팀 폴더\\도로장애물\\Images\\CRACK\\C_Frontback_F01\\V2F_HY_7258_20201102_115716_E_CH1_Seoul_Sun_Frontback_Day_33405.webp → [Errno 22] Invalid argument: 'E:\\\\Hyunji4579 Dropbox\\\\Hyunji4579의 팀 폴더\\\\도로장애물\\\\Images\\\\CRACK\\\\C_Frontback_F01\\\\V2F_HY_7258_20201102_115716_E_CH1_Seoul_Sun_Frontback_Day_33405.webp'\n"
     ]
    },
    {
     "name": "stderr",
     "output_type": "stream",
     "text": [
      "Epoch 2/3 [Train]:  27%|██▋       | 309/1128 [1:04:58<53:22,  3.91s/it]"
     ]
    },
    {
     "name": "stdout",
     "output_type": "stream",
     "text": [
      "[Warning] 스킵: E:\\Hyunji4579 Dropbox\\Hyunji4579의 팀 폴더\\도로장애물\\Images\\CRACK\\C_Frontback_E01\\V1F_HY_3180_20201210_133227_N_CH1_Seoul_Cloud_Frontback_Day_31821.webp → [Errno 22] Invalid argument: 'E:\\\\Hyunji4579 Dropbox\\\\Hyunji4579의 팀 폴더\\\\도로장애물\\\\Annotations\\\\CRACK\\\\C_Frontback_E01\\\\V1F_HY_3180_20201210_133227_N_CH1_Seoul_Cloud_Frontback_Day_31821.json'\n",
      "[Warning] 스킵: E:\\Hyunji4579 Dropbox\\Hyunji4579의 팀 폴더\\도로장애물\\Images\\CRACK\\C_Frontback_D02\\V1F_HY_7441_20160212_023900_E_CH1_Seoul_Sun_Frontback_Sunset_83428.webp → [Errno 22] Invalid argument: 'E:\\\\Hyunji4579 Dropbox\\\\Hyunji4579의 팀 폴더\\\\도로장애물\\\\Annotations\\\\CRACK\\\\C_Frontback_D02\\\\V1F_HY_7441_20160212_023900_E_CH1_Seoul_Sun_Frontback_Sunset_83428.json'\n",
      "[Warning] 스킵: E:\\Hyunji4579 Dropbox\\Hyunji4579의 팀 폴더\\도로장애물\\Images\\CRACK\\C_Frontback_D02\\V1F_HY_2524_20160212_014114_N_CH0_Seoul_Snow_Frontback_Day_06482.webp → [Errno 22] Invalid argument: 'E:\\\\Hyunji4579 Dropbox\\\\Hyunji4579의 팀 폴더\\\\도로장애물\\\\Images\\\\CRACK\\\\C_Frontback_D02\\\\V1F_HY_2524_20160212_014114_N_CH0_Seoul_Snow_Frontback_Day_06482.webp'\n",
      "[Warning] 스킵: E:\\Hyunji4579 Dropbox\\Hyunji4579의 팀 폴더\\도로장애물\\Images\\CRACK\\C_Frontback_E02\\V2F_HY_4781_20201102_100705_E_CH0_Seoul_Sun_Frontback_Day_52397.webp → [Errno 22] Invalid argument: 'E:\\\\Hyunji4579 Dropbox\\\\Hyunji4579의 팀 폴더\\\\도로장애물\\\\Annotations\\\\CRACK\\\\C_Frontback_E02\\\\V2F_HY_4781_20201102_100705_E_CH0_Seoul_Sun_Frontback_Day_52397.json'\n"
     ]
    },
    {
     "name": "stderr",
     "output_type": "stream",
     "text": [
      "Epoch 2/3 [Train]:  27%|██▋       | 310/1128 [1:05:02<53:20,  3.91s/it]"
     ]
    },
    {
     "name": "stdout",
     "output_type": "stream",
     "text": [
      "[Warning] 스킵: E:\\Hyunji4579 Dropbox\\Hyunji4579의 팀 폴더\\도로장애물\\Images\\CRACK\\C_Frontback_E01\\V1F_HY_2357_20160212_020033_N_CH1_Seoul_Sun_Frontback_Day_95792.webp → [Errno 22] Invalid argument: 'E:\\\\Hyunji4579 Dropbox\\\\Hyunji4579의 팀 폴더\\\\도로장애물\\\\Images\\\\CRACK\\\\C_Frontback_E01\\\\V1F_HY_2357_20160212_020033_N_CH1_Seoul_Sun_Frontback_Day_95792.webp'\n",
      "[Warning] 스킵: E:\\Hyunji4579 Dropbox\\Hyunji4579의 팀 폴더\\도로장애물\\Images\\CRACK\\C_Frontback_E01\\V1F_HY_1693_20160212_031809_E_CH1_Seoul_Snow_Frontback_Day_69314.webp → [Errno 22] Invalid argument: 'E:\\\\Hyunji4579 Dropbox\\\\Hyunji4579의 팀 폴더\\\\도로장애물\\\\Annotations\\\\CRACK\\\\C_Frontback_E01\\\\V1F_HY_1693_20160212_031809_E_CH1_Seoul_Snow_Frontback_Day_69314.json'\n",
      "[Warning] 스킵: E:\\Hyunji4579 Dropbox\\Hyunji4579의 팀 폴더\\도로장애물\\Images\\CRACK\\C_Frontback_D02\\V2F_HY_0859_20210111_103625_E_CH1_Seoul_Snow_Frontback_Day_26710.webp → [Errno 22] Invalid argument: 'E:\\\\Hyunji4579 Dropbox\\\\Hyunji4579의 팀 폴더\\\\도로장애물\\\\Images\\\\CRACK\\\\C_Frontback_D02\\\\V2F_HY_0859_20210111_103625_E_CH1_Seoul_Snow_Frontback_Day_26710.webp'\n",
      "[Warning] 스킵: E:\\Hyunji4579 Dropbox\\Hyunji4579의 팀 폴더\\도로장애물\\Images\\CRACK\\C_Frontback_E02\\V1F_HY_9207_20160212_014017_N_CH1_Seoul_Sun_Frontback_Day_60904.webp → [Errno 22] Invalid argument: 'E:\\\\Hyunji4579 Dropbox\\\\Hyunji4579의 팀 폴더\\\\도로장애물\\\\Annotations\\\\CRACK\\\\C_Frontback_E02\\\\V1F_HY_9207_20160212_014017_N_CH1_Seoul_Sun_Frontback_Day_60904.json'\n",
      "[Warning] 스킵: E:\\Hyunji4579 Dropbox\\Hyunji4579의 팀 폴더\\도로장애물\\Images\\CRACK\\C_Frontback_G02\\V3F_HY_9283_20201102_133832_N_CH1_Seoul_Sun_Frontback_Day_55143.webp → [Errno 22] Invalid argument: 'E:\\\\Hyunji4579 Dropbox\\\\Hyunji4579의 팀 폴더\\\\도로장애물\\\\Images\\\\CRACK\\\\C_Frontback_G02\\\\V3F_HY_9283_20201102_133832_N_CH1_Seoul_Sun_Frontback_Day_55143.webp'\n",
      "[Warning] 스킵: E:\\Hyunji4579 Dropbox\\Hyunji4579의 팀 폴더\\도로장애물\\Images\\CRACK\\C_Frontback_D02\\V2F_HY_7227_20210111_103926_N_CH0_Seoul_Cloud_Frontback_Day_38712.webp → [Errno 22] Invalid argument: 'E:\\\\Hyunji4579 Dropbox\\\\Hyunji4579의 팀 폴더\\\\도로장애물\\\\Annotations\\\\CRACK\\\\C_Frontback_D02\\\\V2F_HY_7227_20210111_103926_N_CH0_Seoul_Cloud_Frontback_Day_38712.json'\n"
     ]
    },
    {
     "name": "stderr",
     "output_type": "stream",
     "text": [
      "Epoch 2/3 [Train]:  28%|██▊       | 311/1128 [1:05:06<52:44,  3.87s/it]"
     ]
    },
    {
     "name": "stdout",
     "output_type": "stream",
     "text": [
      "[Warning] 스킵: E:\\Hyunji4579 Dropbox\\Hyunji4579의 팀 폴더\\도로장애물\\Images\\CRACK\\C_Frontback_E01\\V1F_HY_4449_20160212_014117_E_CH0_Seoul_Sun_Frontback_Day_48111.webp → [Errno 22] Invalid argument: 'E:\\\\Hyunji4579 Dropbox\\\\Hyunji4579의 팀 폴더\\\\도로장애물\\\\Images\\\\CRACK\\\\C_Frontback_E01\\\\V1F_HY_4449_20160212_014117_E_CH0_Seoul_Sun_Frontback_Day_48111.webp'\n",
      "[Warning] 스킵: E:\\Hyunji4579 Dropbox\\Hyunji4579의 팀 폴더\\도로장애물\\Images\\CRACK\\C_Frontback_D01\\V0F_HY_2717_20201103_141832_N_CH2_Seoul_Sun_Frontback_Day_33751.webp → [Errno 22] Invalid argument: 'E:\\\\Hyunji4579 Dropbox\\\\Hyunji4579의 팀 폴더\\\\도로장애물\\\\Images\\\\CRACK\\\\C_Frontback_D01\\\\V0F_HY_2717_20201103_141832_N_CH2_Seoul_Sun_Frontback_Day_33751.webp'\n"
     ]
    },
    {
     "name": "stderr",
     "output_type": "stream",
     "text": [
      "Epoch 2/3 [Train]:  28%|██▊       | 312/1128 [1:05:13<1:07:25,  4.96s/it]"
     ]
    },
    {
     "name": "stdout",
     "output_type": "stream",
     "text": [
      "[Warning] 스킵: E:\\Hyunji4579 Dropbox\\Hyunji4579의 팀 폴더\\도로장애물\\Images\\CRACK\\C_Frontback_D01\\V0F_HY_5347_20201105_121302_E_CH0_Seoul_Sun_Frontback_Day_79119.webp → [Errno 22] Invalid argument: 'E:\\\\Hyunji4579 Dropbox\\\\Hyunji4579의 팀 폴더\\\\도로장애물\\\\Annotations\\\\CRACK\\\\C_Frontback_D01\\\\V0F_HY_5347_20201105_121302_E_CH0_Seoul_Sun_Frontback_Day_79119.json'\n",
      "[Warning] 스킵: E:\\Hyunji4579 Dropbox\\Hyunji4579의 팀 폴더\\도로장애물\\Images\\CRACK\\C_Frontback_D02\\V2F_HY_2526_20210111_103926_N_CH2_Seoul_Cloud_Frontback_Day_54134.webp → [Errno 22] Invalid argument: 'E:\\\\Hyunji4579 Dropbox\\\\Hyunji4579의 팀 폴더\\\\도로장애물\\\\Annotations\\\\CRACK\\\\C_Frontback_D02\\\\V2F_HY_2526_20210111_103926_N_CH2_Seoul_Cloud_Frontback_Day_54134.json'\n",
      "[Warning] 스킵: E:\\Hyunji4579 Dropbox\\Hyunji4579의 팀 폴더\\도로장애물\\Images\\CRACK\\C_Frontback_G02\\V3F_HY_9945_20160212_022649_N_CH1_Seoul_Sun_Frontback_Day_32518.webp → [Errno 22] Invalid argument: 'E:\\\\Hyunji4579 Dropbox\\\\Hyunji4579의 팀 폴더\\\\도로장애물\\\\Annotations\\\\CRACK\\\\C_Frontback_G02\\\\V3F_HY_9945_20160212_022649_N_CH1_Seoul_Sun_Frontback_Day_32518.json'\n"
     ]
    },
    {
     "name": "stderr",
     "output_type": "stream",
     "text": [
      "Epoch 2/3 [Train]:  28%|██▊       | 313/1128 [1:05:17<1:03:02,  4.64s/it]"
     ]
    },
    {
     "name": "stdout",
     "output_type": "stream",
     "text": [
      "[Warning] 스킵: E:\\Hyunji4579 Dropbox\\Hyunji4579의 팀 폴더\\도로장애물\\Images\\CRACK\\C_Frontback_G02\\V3F_HY_6066_20160212_013514_E_CH1_Seoul_Cloud_Frontback_Day_09252.webp → [Errno 22] Invalid argument: 'E:\\\\Hyunji4579 Dropbox\\\\Hyunji4579의 팀 폴더\\\\도로장애물\\\\Annotations\\\\CRACK\\\\C_Frontback_G02\\\\V3F_HY_6066_20160212_013514_E_CH1_Seoul_Cloud_Frontback_Day_09252.json'\n",
      "[Warning] 스킵: E:\\Hyunji4579 Dropbox\\Hyunji4579의 팀 폴더\\도로장애물\\Images\\CRACK\\C_Frontback_E01\\V1F_HY_7530_20160212_014017_E_CH0_Seoul_Sun_Frontback_Day_28305.webp → [Errno 22] Invalid argument: 'E:\\\\Hyunji4579 Dropbox\\\\Hyunji4579의 팀 폴더\\\\도로장애물\\\\Images\\\\CRACK\\\\C_Frontback_E01\\\\V1F_HY_7530_20160212_014017_E_CH0_Seoul_Sun_Frontback_Day_28305.webp'\n",
      "[Warning] 스킵: E:\\Hyunji4579 Dropbox\\Hyunji4579의 팀 폴더\\도로장애물\\Images\\CRACK\\C_Frontback_F01\\V1F_HY_8385_20160212_021355_E_CH0_Seoul_Sun_Frontback_Sunset_53403.webp → [Errno 22] Invalid argument: 'E:\\\\Hyunji4579 Dropbox\\\\Hyunji4579의 팀 폴더\\\\도로장애물\\\\Annotations\\\\CRACK\\\\C_Frontback_F01\\\\V1F_HY_8385_20160212_021355_E_CH0_Seoul_Sun_Frontback_Sunset_53403.json'\n",
      "[Warning] 스킵: E:\\Hyunji4579 Dropbox\\Hyunji4579의 팀 폴더\\도로장애물\\Images\\CRACK\\C_Frontback_E02\\V2F_HY_8194_20201102_101406_E_CH1_Seoul_Sun_Frontback_Day_41184.webp → [Errno 22] Invalid argument: 'E:\\\\Hyunji4579 Dropbox\\\\Hyunji4579의 팀 폴더\\\\도로장애물\\\\Images\\\\CRACK\\\\C_Frontback_E02\\\\V2F_HY_8194_20201102_101406_E_CH1_Seoul_Sun_Frontback_Day_41184.webp'\n"
     ]
    },
    {
     "name": "stderr",
     "output_type": "stream",
     "text": [
      "Epoch 2/3 [Train]:  28%|██▊       | 314/1128 [1:05:21<1:00:17,  4.44s/it]"
     ]
    },
    {
     "name": "stdout",
     "output_type": "stream",
     "text": [
      "[Warning] 스킵: E:\\Hyunji4579 Dropbox\\Hyunji4579의 팀 폴더\\도로장애물\\Images\\CRACK\\C_Frontback_F01\\V2F_HY_2064_20201222_152039_E_CH0_Seoul_Sun_Frontback_Day_45539.webp → [Errno 22] Invalid argument: 'E:\\\\Hyunji4579 Dropbox\\\\Hyunji4579의 팀 폴더\\\\도로장애물\\\\Annotations\\\\CRACK\\\\C_Frontback_F01\\\\V2F_HY_2064_20201222_152039_E_CH0_Seoul_Sun_Frontback_Day_45539.json'\n",
      "[Warning] 스킵: E:\\Hyunji4579 Dropbox\\Hyunji4579의 팀 폴더\\도로장애물\\Images\\CRACK\\C_Frontback_E01\\V1F_HY_0946_20160212_013214_E_CH0_Seoul_Cloud_Frontback_Day_14244.webp → [Errno 22] Invalid argument: 'E:\\\\Hyunji4579 Dropbox\\\\Hyunji4579의 팀 폴더\\\\도로장애물\\\\Images\\\\CRACK\\\\C_Frontback_E01\\\\V1F_HY_0946_20160212_013214_E_CH0_Seoul_Cloud_Frontback_Day_14244.webp'\n"
     ]
    },
    {
     "name": "stderr",
     "output_type": "stream",
     "text": [
      "Epoch 2/3 [Train]:  28%|██▊       | 315/1128 [1:05:25<57:36,  4.25s/it]  "
     ]
    },
    {
     "name": "stdout",
     "output_type": "stream",
     "text": [
      "[Warning] 스킵: E:\\Hyunji4579 Dropbox\\Hyunji4579의 팀 폴더\\도로장애물\\Images\\CRACK\\C_Frontback_E01\\V1F_HY_0852_20201210_143506_E_CH1_Seoul_Cloud_Frontback_Day_11444.webp → [Errno 22] Invalid argument: 'E:\\\\Hyunji4579 Dropbox\\\\Hyunji4579의 팀 폴더\\\\도로장애물\\\\Images\\\\CRACK\\\\C_Frontback_E01\\\\V1F_HY_0852_20201210_143506_E_CH1_Seoul_Cloud_Frontback_Day_11444.webp'\n",
      "[Warning] 스킵: E:\\Hyunji4579 Dropbox\\Hyunji4579의 팀 폴더\\도로장애물\\Images\\CRACK\\C_Frontback_D01\\V0F_HY_3363_20201222_151758_E_CH0_Seoul_Sun_Frontback_Day_82110.webp → [Errno 22] Invalid argument: 'E:\\\\Hyunji4579 Dropbox\\\\Hyunji4579의 팀 폴더\\\\도로장애물\\\\Images\\\\CRACK\\\\C_Frontback_D01\\\\V0F_HY_3363_20201222_151758_E_CH0_Seoul_Sun_Frontback_Day_82110.webp'\n",
      "[Warning] 스킵: E:\\Hyunji4579 Dropbox\\Hyunji4579의 팀 폴더\\도로장애물\\Images\\CRACK\\C_Frontback_E01\\V1F_HY_5006_20160212_021018_N_CH1_Seoul_Cloud_Frontback_Day_60950.webp → [Errno 22] Invalid argument: 'E:\\\\Hyunji4579 Dropbox\\\\Hyunji4579의 팀 폴더\\\\도로장애물\\\\Annotations\\\\CRACK\\\\C_Frontback_E01\\\\V1F_HY_5006_20160212_021018_N_CH1_Seoul_Cloud_Frontback_Day_60950.json'\n",
      "[Warning] 스킵: E:\\Hyunji4579 Dropbox\\Hyunji4579의 팀 폴더\\도로장애물\\Images\\CRACK\\C_Frontback_D01\\V0F_HY_2408_20201104_124014_E_CH1_Seoul_Sun_Frontback_Day_41414.webp → [Errno 22] Invalid argument: 'E:\\\\Hyunji4579 Dropbox\\\\Hyunji4579의 팀 폴더\\\\도로장애물\\\\Images\\\\CRACK\\\\C_Frontback_D01\\\\V0F_HY_2408_20201104_124014_E_CH1_Seoul_Sun_Frontback_Day_41414.webp'\n",
      "[Warning] 스킵: E:\\Hyunji4579 Dropbox\\Hyunji4579의 팀 폴더\\도로장애물\\Images\\CRACK\\C_Frontback_D01\\V0F_HY_1102_20201104_124014_E_CH1_Seoul_Sun_Frontback_Day_38747.webp → [Errno 22] Invalid argument: 'E:\\\\Hyunji4579 Dropbox\\\\Hyunji4579의 팀 폴더\\\\도로장애물\\\\Annotations\\\\CRACK\\\\C_Frontback_D01\\\\V0F_HY_1102_20201104_124014_E_CH1_Seoul_Sun_Frontback_Day_38747.json'\n"
     ]
    },
    {
     "name": "stderr",
     "output_type": "stream",
     "text": [
      "Epoch 2/3 [Train]:  28%|██▊       | 316/1128 [1:31:05<104:50:57, 464.85s/it]"
     ]
    },
    {
     "name": "stdout",
     "output_type": "stream",
     "text": [
      "[Warning] 스킵: E:\\Hyunji4579 Dropbox\\Hyunji4579의 팀 폴더\\도로장애물\\Images\\CRACK\\C_Frontback_D01\\V0F_HY_8081_20201103_145335_E_CH1_Seoul_Sun_Frontback_Day_69693.webp → [Errno 22] Invalid argument: 'E:\\\\Hyunji4579 Dropbox\\\\Hyunji4579의 팀 폴더\\\\도로장애물\\\\Images\\\\CRACK\\\\C_Frontback_D01\\\\V0F_HY_8081_20201103_145335_E_CH1_Seoul_Sun_Frontback_Day_69693.webp'\n",
      "[Warning] 스킵: E:\\Hyunji4579 Dropbox\\Hyunji4579의 팀 폴더\\도로장애물\\Images\\CRACK\\C_Frontback_G02\\V3F_HY_8063_20160212_021918_N_CH1_Seoul_Sun_Frontback_Day_02133.webp → [Errno 22] Invalid argument: 'E:\\\\Hyunji4579 Dropbox\\\\Hyunji4579의 팀 폴더\\\\도로장애물\\\\Annotations\\\\CRACK\\\\C_Frontback_G02\\\\V3F_HY_8063_20160212_021918_N_CH1_Seoul_Sun_Frontback_Day_02133.json'\n",
      "[Warning] 스킵: E:\\Hyunji4579 Dropbox\\Hyunji4579의 팀 폴더\\도로장애물\\Images\\CRACK\\C_Frontback_D02\\V2F_HY_8364_20210111_103625_N_CH0_Seoul_Cloud_Frontback_Day_78471.webp → [Errno 22] Invalid argument: 'E:\\\\Hyunji4579 Dropbox\\\\Hyunji4579의 팀 폴더\\\\도로장애물\\\\Annotations\\\\CRACK\\\\C_Frontback_D02\\\\V2F_HY_8364_20210111_103625_N_CH0_Seoul_Cloud_Frontback_Day_78471.json'\n",
      "[Warning] 스킵: E:\\Hyunji4579 Dropbox\\Hyunji4579의 팀 폴더\\도로장애물\\Images\\CRACK\\C_Frontback_E01\\V1F_HY_0992_20160212_014314_N_CH2_Seoul_Cloud_Frontback_Day_79268.webp → [Errno 22] Invalid argument: 'E:\\\\Hyunji4579 Dropbox\\\\Hyunji4579의 팀 폴더\\\\도로장애물\\\\Annotations\\\\CRACK\\\\C_Frontback_E01\\\\V1F_HY_0992_20160212_014314_N_CH2_Seoul_Cloud_Frontback_Day_79268.json'\n"
     ]
    },
    {
     "name": "stderr",
     "output_type": "stream",
     "text": [
      "Epoch 2/3 [Train]:  28%|██▊       | 317/1128 [1:56:10<175:03:44, 777.10s/it]"
     ]
    },
    {
     "name": "stdout",
     "output_type": "stream",
     "text": [
      "[Warning] 스킵: E:\\Hyunji4579 Dropbox\\Hyunji4579의 팀 폴더\\도로장애물\\Images\\CRACK\\C_Frontback_D01\\V0F_HY_1759_20201105_121302_N_CH2_Seoul_Sun_Frontback_Day_68316.webp → [Errno 22] Invalid argument: 'E:\\\\Hyunji4579 Dropbox\\\\Hyunji4579의 팀 폴더\\\\도로장애물\\\\Annotations\\\\CRACK\\\\C_Frontback_D01\\\\V0F_HY_1759_20201105_121302_N_CH2_Seoul_Sun_Frontback_Day_68316.json'\n",
      "[Warning] 스킵: E:\\Hyunji4579 Dropbox\\Hyunji4579의 팀 폴더\\도로장애물\\Images\\CRACK\\C_Frontback_E01\\V1F_HY_5802_20160212_024130_N_CH1_Seoul_Snow_Frontback_Day_41554.webp → [Errno 22] Invalid argument: 'E:\\\\Hyunji4579 Dropbox\\\\Hyunji4579의 팀 폴더\\\\도로장애물\\\\Images\\\\CRACK\\\\C_Frontback_E01\\\\V1F_HY_5802_20160212_024130_N_CH1_Seoul_Snow_Frontback_Day_41554.webp'\n",
      "[Warning] 스킵: E:\\Hyunji4579 Dropbox\\Hyunji4579의 팀 폴더\\도로장애물\\Images\\CRACK\\C_Frontback_E02\\V2F_HY_7403_20201102_102554_E_CH0_Seoul_Sun_Frontback_Day_27429.webp → [Errno 22] Invalid argument: 'E:\\\\Hyunji4579 Dropbox\\\\Hyunji4579의 팀 폴더\\\\도로장애물\\\\Images\\\\CRACK\\\\C_Frontback_E02\\\\V2F_HY_7403_20201102_102554_E_CH0_Seoul_Sun_Frontback_Day_27429.webp'\n",
      "[Warning] 스킵: E:\\Hyunji4579 Dropbox\\Hyunji4579의 팀 폴더\\도로장애물\\Images\\CRACK\\C_Frontback_D01\\V0F_HY_1855_20201211_144717_E_CH1_Seoul_Sun_Frontback_Day_09711.webp → [Errno 22] Invalid argument: 'E:\\\\Hyunji4579 Dropbox\\\\Hyunji4579의 팀 폴더\\\\도로장애물\\\\Images\\\\CRACK\\\\C_Frontback_D01\\\\V0F_HY_1855_20201211_144717_E_CH1_Seoul_Sun_Frontback_Day_09711.webp'\n",
      "[Warning] 스킵: E:\\Hyunji4579 Dropbox\\Hyunji4579의 팀 폴더\\도로장애물\\Images\\CRACK\\C_Frontback_D02\\V2F_HY_4684_20210111_103926_N_CH0_Seoul_Snow_Frontback_Day_38014.webp → [Errno 22] Invalid argument: 'E:\\\\Hyunji4579 Dropbox\\\\Hyunji4579의 팀 폴더\\\\도로장애물\\\\Images\\\\CRACK\\\\C_Frontback_D02\\\\V2F_HY_4684_20210111_103926_N_CH0_Seoul_Snow_Frontback_Day_38014.webp'\n",
      "[Warning] 스킵: E:\\Hyunji4579 Dropbox\\Hyunji4579의 팀 폴더\\도로장애물\\Images\\CRACK\\C_Frontback_F01\\V2F_HY_8434_20201102_113808_E_CH0_Seoul_Sun_Frontback_Day_04103.webp → [Errno 22] Invalid argument: 'E:\\\\Hyunji4579 Dropbox\\\\Hyunji4579의 팀 폴더\\\\도로장애물\\\\Images\\\\CRACK\\\\C_Frontback_F01\\\\V2F_HY_8434_20201102_113808_E_CH0_Seoul_Sun_Frontback_Day_04103.webp'\n"
     ]
    },
    {
     "name": "stderr",
     "output_type": "stream",
     "text": [
      "Epoch 2/3 [Train]:  28%|██▊       | 318/1128 [2:21:16<223:59:30, 995.52s/it]"
     ]
    },
    {
     "name": "stdout",
     "output_type": "stream",
     "text": [
      "[Warning] 스킵: E:\\Hyunji4579 Dropbox\\Hyunji4579의 팀 폴더\\도로장애물\\Images\\CRACK\\C_Frontback_D01\\V0F_HY_3701_20210104_114352_N_CH1_Seoul_Sun_Frontback_Day_48535.webp → [Errno 22] Invalid argument: 'E:\\\\Hyunji4579 Dropbox\\\\Hyunji4579의 팀 폴더\\\\도로장애물\\\\Annotations\\\\CRACK\\\\C_Frontback_D01\\\\V0F_HY_3701_20210104_114352_N_CH1_Seoul_Sun_Frontback_Day_48535.json'\n",
      "[Warning] 스킵: E:\\Hyunji4579 Dropbox\\Hyunji4579의 팀 폴더\\도로장애물\\Images\\CRACK\\C_Frontback_E01\\V1F_HY_4004_20201210_144507_N_CH1_Seoul_Cloud_Frontback_Day_62639.webp → [Errno 22] Invalid argument: 'E:\\\\Hyunji4579 Dropbox\\\\Hyunji4579의 팀 폴더\\\\도로장애물\\\\Images\\\\CRACK\\\\C_Frontback_E01\\\\V1F_HY_4004_20201210_144507_N_CH1_Seoul_Cloud_Frontback_Day_62639.webp'\n"
     ]
    },
    {
     "name": "stderr",
     "output_type": "stream",
     "text": [
      "Epoch 2/3 [Train]:  28%|██▊       | 319/1128 [2:31:21<197:23:45, 878.40s/it]"
     ]
    },
    {
     "name": "stdout",
     "output_type": "stream",
     "text": [
      "[Warning] 스킵: E:\\Hyunji4579 Dropbox\\Hyunji4579의 팀 폴더\\도로장애물\\Images\\CRACK\\C_Frontback_D02\\V1F_HY_7342_20160212_020833_E_CH0_Seoul_Sun_Frontback_Sunset_69837.webp → [Errno 22] Invalid argument: 'E:\\\\Hyunji4579 Dropbox\\\\Hyunji4579의 팀 폴더\\\\도로장애물\\\\Annotations\\\\CRACK\\\\C_Frontback_D02\\\\V1F_HY_7342_20160212_020833_E_CH0_Seoul_Sun_Frontback_Sunset_69837.json'\n",
      "[Warning] 스킵: E:\\Hyunji4579 Dropbox\\Hyunji4579의 팀 폴더\\도로장애물\\Images\\CRACK\\C_Frontback_D02\\V2F_HY_5053_20210111_103726_E_CH0_Seoul_Snow_Frontback_Day_96957.webp → [Errno 22] Invalid argument: 'E:\\\\Hyunji4579 Dropbox\\\\Hyunji4579의 팀 폴더\\\\도로장애물\\\\Images\\\\CRACK\\\\C_Frontback_D02\\\\V2F_HY_5053_20210111_103726_E_CH0_Seoul_Snow_Frontback_Day_96957.webp'\n",
      "[Warning] 스킵: E:\\Hyunji4579 Dropbox\\Hyunji4579의 팀 폴더\\도로장애물\\Images\\CRACK\\C_Frontback_D02\\V2F_HY_6966_20210111_102136_E_CH1_Seoul_Cloud_Frontback_Day_52941.webp → [Errno 22] Invalid argument: 'E:\\\\Hyunji4579 Dropbox\\\\Hyunji4579의 팀 폴더\\\\도로장애물\\\\Annotations\\\\CRACK\\\\C_Frontback_D02\\\\V2F_HY_6966_20210111_102136_E_CH1_Seoul_Cloud_Frontback_Day_52941.json'\n"
     ]
    },
    {
     "name": "stderr",
     "output_type": "stream",
     "text": [
      "Epoch 2/3 [Train]:  46%|████▋     | 522/1128 [3:46:02<2:55:20, 17.36s/it]   "
     ]
    },
    {
     "name": "stdout",
     "output_type": "stream",
     "text": [
      "[Warning] 스킵: E:\\Hyunji4579 Dropbox\\Hyunji4579의 팀 폴더\\도로장애물\\Images\\CRACK\\C_Frontback_D02\\V1F_HY_5361_20160212_014614_N_CH0_Seoul_Snow_Frontback_Day_44689.webp → [Errno 22] Invalid argument: 'E:\\\\Hyunji4579 Dropbox\\\\Hyunji4579의 팀 폴더\\\\도로장애물\\\\Images\\\\CRACK\\\\C_Frontback_D02\\\\V1F_HY_5361_20160212_014614_N_CH0_Seoul_Snow_Frontback_Day_44689.webp'\n"
     ]
    },
    {
     "name": "stderr",
     "output_type": "stream",
     "text": [
      "Epoch 2/3 [Train]: 100%|██████████| 1128/1128 [7:26:40<00:00, 23.76s/it] \n"
     ]
    },
    {
     "name": "stdout",
     "output_type": "stream",
     "text": [
      "[Warning] 스킵: E:\\Hyunji4579 Dropbox\\Hyunji4579의 팀 폴더\\도로장애물\\Images\\CRACK\\C_Frontback_E02\\V2F_HY_1725_20201102_102954_E_CH1_Seoul_Sun_Frontback_Day_48442.webp → [Errno 22] Invalid argument: 'E:\\\\Hyunji4579 Dropbox\\\\Hyunji4579의 팀 폴더\\\\도로장애물\\\\Images\\\\CRACK\\\\C_Frontback_E02\\\\V2F_HY_1725_20201102_102954_E_CH1_Seoul_Sun_Frontback_Day_48442.webp'\n",
      "[Warning] 스킵: E:\\Hyunji4579 Dropbox\\Hyunji4579의 팀 폴더\\도로장애물\\Images\\CRACK\\C_Frontback_F01\\V2F_HY_4312_20201222_082240_E_CH1_Seoul_Snow_Frontback_Day_75611.webp → [Errno 22] Invalid argument: 'E:\\\\Hyunji4579 Dropbox\\\\Hyunji4579의 팀 폴더\\\\도로장애물\\\\Images\\\\CRACK\\\\C_Frontback_F01\\\\V2F_HY_4312_20201222_082240_E_CH1_Seoul_Snow_Frontback_Day_75611.webp'\n",
      "[Warning] 스킵: E:\\Hyunji4579 Dropbox\\Hyunji4579의 팀 폴더\\도로장애물\\Images\\CRACK\\C_Frontback_D02\\V1F_HY_6273_20160212_014114_N_CH1_Seoul_Snow_Frontback_Day_43442.webp → [Errno 22] Invalid argument: 'E:\\\\Hyunji4579 Dropbox\\\\Hyunji4579의 팀 폴더\\\\도로장애물\\\\Images\\\\CRACK\\\\C_Frontback_D02\\\\V1F_HY_6273_20160212_014114_N_CH1_Seoul_Snow_Frontback_Day_43442.webp'\n",
      "[Warning] 스킵: E:\\Hyunji4579 Dropbox\\Hyunji4579의 팀 폴더\\도로장애물\\Images\\CRACK\\C_Frontback_D02\\V1F_HY_9650_20160212_022318_E_CH1_Seoul_Sun_Frontback_Sunset_82017.webp → [Errno 22] Invalid argument: 'E:\\\\Hyunji4579 Dropbox\\\\Hyunji4579의 팀 폴더\\\\도로장애물\\\\Annotations\\\\CRACK\\\\C_Frontback_D02\\\\V1F_HY_9650_20160212_022318_E_CH1_Seoul_Sun_Frontback_Sunset_82017.json'\n",
      "[Warning] 스킵: E:\\Hyunji4579 Dropbox\\Hyunji4579의 팀 폴더\\도로장애물\\Images\\CRACK\\C_Frontback_E01\\V1F_HY_7305_20201210_120141_N_CH0_Seoul_Cloud_Frontback_Day_52476.webp → [Errno 22] Invalid argument: 'E:\\\\Hyunji4579 Dropbox\\\\Hyunji4579의 팀 폴더\\\\도로장애물\\\\Images\\\\CRACK\\\\C_Frontback_E01\\\\V1F_HY_7305_20201210_120141_N_CH0_Seoul_Cloud_Frontback_Day_52476.webp'\n",
      "Epoch 2 Metrics:\n",
      "  Accuracy : 0.9983\n",
      "  Precision: 0.0000\n",
      "  Recall   : 0.0000\n",
      "  F1-score : 0.0000\n",
      "  IoU      : 0.0000\n",
      "  R2-score : -0.0017\n"
     ]
    },
    {
     "name": "stderr",
     "output_type": "stream",
     "text": [
      "Epoch 3/3 [Train]:   5%|▍         | 55/1128 [09:32<3:04:27, 10.31s/it]"
     ]
    },
    {
     "name": "stdout",
     "output_type": "stream",
     "text": [
      "[Warning] 스킵: E:\\Hyunji4579 Dropbox\\Hyunji4579의 팀 폴더\\도로장애물\\Images\\CRACK\\C_Frontback_D02\\V2F_HY_5159_20210111_103726_N_CH1_Seoul_Snow_Frontback_Day_59081.webp → [Errno 22] Invalid argument: 'E:\\\\Hyunji4579 Dropbox\\\\Hyunji4579의 팀 폴더\\\\도로장애물\\\\Images\\\\CRACK\\\\C_Frontback_D02\\\\V2F_HY_5159_20210111_103726_N_CH1_Seoul_Snow_Frontback_Day_59081.webp'\n"
     ]
    },
    {
     "name": "stderr",
     "output_type": "stream",
     "text": [
      "Epoch 3/3 [Train]:  10%|█         | 118/1128 [21:33<4:56:04, 17.59s/it]"
     ]
    },
    {
     "name": "stdout",
     "output_type": "stream",
     "text": [
      "[Warning] 스킵: E:\\Hyunji4579 Dropbox\\Hyunji4579의 팀 폴더\\도로장애물\\Images\\CRACK\\C_Frontback_D01\\V0F_HY_2410_20201210_142902_E_CH0_Seoul_Cloud_Frontback_Day_02221.webp → [Errno 22] Invalid argument: 'E:\\\\Hyunji4579 Dropbox\\\\Hyunji4579의 팀 폴더\\\\도로장애물\\\\Images\\\\CRACK\\\\C_Frontback_D01\\\\V0F_HY_2410_20201210_142902_E_CH0_Seoul_Cloud_Frontback_Day_02221.webp'\n"
     ]
    },
    {
     "name": "stderr",
     "output_type": "stream",
     "text": [
      "Epoch 3/3 [Train]:  17%|█▋        | 193/1128 [37:03<2:47:52, 10.77s/it]"
     ]
    },
    {
     "name": "stdout",
     "output_type": "stream",
     "text": [
      "[Warning] 스킵: E:\\Hyunji4579 Dropbox\\Hyunji4579의 팀 폴더\\도로장애물\\Images\\CRACK\\C_Frontback_E01\\V1F_HY_1992_20160212_020233_E_CH0_Seoul_Sun_Frontback_Sunset_86024.webp → [Errno 22] Invalid argument: 'E:\\\\Hyunji4579 Dropbox\\\\Hyunji4579의 팀 폴더\\\\도로장애물\\\\Images\\\\CRACK\\\\C_Frontback_E01\\\\V1F_HY_1992_20160212_020233_E_CH0_Seoul_Sun_Frontback_Sunset_86024.webp'\n"
     ]
    },
    {
     "name": "stderr",
     "output_type": "stream",
     "text": [
      "Epoch 3/3 [Train]:  22%|██▏       | 246/1128 [48:06<4:55:35, 20.11s/it]"
     ]
    },
    {
     "name": "stdout",
     "output_type": "stream",
     "text": [
      "[Warning] 스킵: E:\\Hyunji4579 Dropbox\\Hyunji4579의 팀 폴더\\도로장애물\\Images\\CRACK\\C_Frontback_E02\\V2F_HY_4758_20201102_100705_E_CH0_Seoul_Sun_Frontback_Day_98287.webp → [Errno 22] Invalid argument: 'E:\\\\Hyunji4579 Dropbox\\\\Hyunji4579의 팀 폴더\\\\도로장애물\\\\Images\\\\CRACK\\\\C_Frontback_E02\\\\V2F_HY_4758_20201102_100705_E_CH0_Seoul_Sun_Frontback_Day_98287.webp'\n"
     ]
    },
    {
     "name": "stderr",
     "output_type": "stream",
     "text": [
      "Epoch 3/3 [Train]:  26%|██▌       | 295/1128 [1:00:04<4:26:57, 19.23s/it]"
     ]
    },
    {
     "name": "stdout",
     "output_type": "stream",
     "text": [
      "[Warning] 스킵: E:\\Hyunji4579 Dropbox\\Hyunji4579의 팀 폴더\\도로장애물\\Images\\CRACK\\C_Frontback_E02\\V2F_HY_2300_20201102_101006_E_CH1_Seoul_Sun_Frontback_Day_40528.webp → [Errno 22] Invalid argument: 'E:\\\\Hyunji4579 Dropbox\\\\Hyunji4579의 팀 폴더\\\\도로장애물\\\\Images\\\\CRACK\\\\C_Frontback_E02\\\\V2F_HY_2300_20201102_101006_E_CH1_Seoul_Sun_Frontback_Day_40528.webp'\n"
     ]
    },
    {
     "name": "stderr",
     "output_type": "stream",
     "text": [
      "Epoch 3/3 [Train]:  34%|███▍      | 384/1128 [1:17:44<2:41:33, 13.03s/it]"
     ]
    },
    {
     "name": "stdout",
     "output_type": "stream",
     "text": [
      "[Warning] 스킵: E:\\Hyunji4579 Dropbox\\Hyunji4579의 팀 폴더\\도로장애물\\Images\\CRACK\\C_Frontback_F01\\V2F_HY_0832_20201224_100929_N_CH0_Seoul_Sun_Frontback_Day_61371.webp → [Errno 22] Invalid argument: 'E:\\\\Hyunji4579 Dropbox\\\\Hyunji4579의 팀 폴더\\\\도로장애물\\\\Images\\\\CRACK\\\\C_Frontback_F01\\\\V2F_HY_0832_20201224_100929_N_CH0_Seoul_Sun_Frontback_Day_61371.webp'\n"
     ]
    },
    {
     "name": "stderr",
     "output_type": "stream",
     "text": [
      "Epoch 3/3 [Train]:  42%|████▏     | 474/1128 [1:37:21<1:40:55,  9.26s/it]"
     ]
    },
    {
     "name": "stdout",
     "output_type": "stream",
     "text": [
      "[Warning] 스킵: E:\\Hyunji4579 Dropbox\\Hyunji4579의 팀 폴더\\도로장애물\\Images\\CRACK\\C_Frontback_E02\\V2F_HY_8675_20201102_102654_N_CH2_Seoul_Sun_Frontback_Day_61247.webp → [Errno 22] Invalid argument: 'E:\\\\Hyunji4579 Dropbox\\\\Hyunji4579의 팀 폴더\\\\도로장애물\\\\Images\\\\CRACK\\\\C_Frontback_E02\\\\V2F_HY_8675_20201102_102654_N_CH2_Seoul_Sun_Frontback_Day_61247.webp'\n"
     ]
    },
    {
     "name": "stderr",
     "output_type": "stream",
     "text": [
      "Epoch 3/3 [Train]:  46%|████▌     | 516/1128 [1:47:23<3:17:00, 19.32s/it]"
     ]
    },
    {
     "name": "stdout",
     "output_type": "stream",
     "text": [
      "[Warning] 스킵: E:\\Hyunji4579 Dropbox\\Hyunji4579의 팀 폴더\\도로장애물\\Images\\CRACK\\C_Frontback_E02\\V2F_HY_4170_20201102_102954_E_CH0_Seoul_Sun_Frontback_Day_97220.webp → [Errno 22] Invalid argument: 'E:\\\\Hyunji4579 Dropbox\\\\Hyunji4579의 팀 폴더\\\\도로장애물\\\\Images\\\\CRACK\\\\C_Frontback_E02\\\\V2F_HY_4170_20201102_102954_E_CH0_Seoul_Sun_Frontback_Day_97220.webp'\n"
     ]
    },
    {
     "name": "stderr",
     "output_type": "stream",
     "text": [
      "Epoch 3/3 [Train]:  50%|████▉     | 560/1128 [1:57:19<2:02:48, 12.97s/it]"
     ]
    },
    {
     "name": "stdout",
     "output_type": "stream",
     "text": [
      "[Warning] 스킵: E:\\Hyunji4579 Dropbox\\Hyunji4579의 팀 폴더\\도로장애물\\Images\\CRACK\\C_Frontback_D02\\V2F_HY_0323_20210105_160046_E_CH0_Seoul_Sun_Frontback_Day_80153.webp → [Errno 22] Invalid argument: 'E:\\\\Hyunji4579 Dropbox\\\\Hyunji4579의 팀 폴더\\\\도로장애물\\\\Images\\\\CRACK\\\\C_Frontback_D02\\\\V2F_HY_0323_20210105_160046_E_CH0_Seoul_Sun_Frontback_Day_80153.webp'\n"
     ]
    },
    {
     "name": "stderr",
     "output_type": "stream",
     "text": [
      "Epoch 3/3 [Train]:  51%|█████     | 578/1128 [2:01:42<2:04:02, 13.53s/it]"
     ]
    },
    {
     "name": "stdout",
     "output_type": "stream",
     "text": [
      "[Warning] 스킵: E:\\Hyunji4579 Dropbox\\Hyunji4579의 팀 폴더\\도로장애물\\Images\\CRACK\\C_Frontback_D01\\V0F_HY_6368_20201103_145335_E_CH1_Seoul_Sun_Frontback_Day_63827.webp → [Errno 22] Invalid argument: 'E:\\\\Hyunji4579 Dropbox\\\\Hyunji4579의 팀 폴더\\\\도로장애물\\\\Images\\\\CRACK\\\\C_Frontback_D01\\\\V0F_HY_6368_20201103_145335_E_CH1_Seoul_Sun_Frontback_Day_63827.webp'\n"
     ]
    },
    {
     "name": "stderr",
     "output_type": "stream",
     "text": [
      "Epoch 3/3 [Train]:  53%|█████▎    | 598/1128 [2:05:37<1:50:46, 12.54s/it]"
     ]
    },
    {
     "name": "stdout",
     "output_type": "stream",
     "text": [
      "[Warning] 스킵: E:\\Hyunji4579 Dropbox\\Hyunji4579의 팀 폴더\\도로장애물\\Images\\CRACK\\C_Frontback_D01\\V0F_HY_9092_20201221_165613_E_CH0_Seoul_Sun_Frontback_Day_20482.webp → [Errno 22] Invalid argument: 'E:\\\\Hyunji4579 Dropbox\\\\Hyunji4579의 팀 폴더\\\\도로장애물\\\\Images\\\\CRACK\\\\C_Frontback_D01\\\\V0F_HY_9092_20201221_165613_E_CH0_Seoul_Sun_Frontback_Day_20482.webp'\n"
     ]
    },
    {
     "name": "stderr",
     "output_type": "stream",
     "text": [
      "Epoch 3/3 [Train]:  53%|█████▎    | 603/1128 [2:06:32<1:34:06, 10.75s/it]"
     ]
    },
    {
     "name": "stdout",
     "output_type": "stream",
     "text": [
      "[Warning] 스킵: E:\\Hyunji4579 Dropbox\\Hyunji4579의 팀 폴더\\도로장애물\\Images\\CRACK\\C_Frontback_E02\\V2F_HY_8041_20201102_102954_E_CH0_Seoul_Sun_Frontback_Day_81849.webp → [Errno 22] Invalid argument: 'E:\\\\Hyunji4579 Dropbox\\\\Hyunji4579의 팀 폴더\\\\도로장애물\\\\Images\\\\CRACK\\\\C_Frontback_E02\\\\V2F_HY_8041_20201102_102954_E_CH0_Seoul_Sun_Frontback_Day_81849.webp'\n"
     ]
    },
    {
     "name": "stderr",
     "output_type": "stream",
     "text": [
      "Epoch 3/3 [Train]:  56%|█████▌    | 634/1128 [2:12:37<1:16:51,  9.33s/it]"
     ]
    },
    {
     "name": "stdout",
     "output_type": "stream",
     "text": [
      "[Warning] 스킵: E:\\Hyunji4579 Dropbox\\Hyunji4579의 팀 폴더\\도로장애물\\Images\\CRACK\\C_Frontback_D01\\V0F_HY_8938_20201103_141832_E_CH0_Seoul_Sun_Frontback_Day_42586.webp → [Errno 22] Invalid argument: 'E:\\\\Hyunji4579 Dropbox\\\\Hyunji4579의 팀 폴더\\\\도로장애물\\\\Images\\\\CRACK\\\\C_Frontback_D01\\\\V0F_HY_8938_20201103_141832_E_CH0_Seoul_Sun_Frontback_Day_42586.webp'\n"
     ]
    },
    {
     "name": "stderr",
     "output_type": "stream",
     "text": [
      "Epoch 3/3 [Train]:  60%|█████▉    | 673/1128 [2:22:06<1:39:20, 13.10s/it]"
     ]
    },
    {
     "name": "stdout",
     "output_type": "stream",
     "text": [
      "[Warning] 스킵: E:\\Hyunji4579 Dropbox\\Hyunji4579의 팀 폴더\\도로장애물\\Images\\CRACK\\C_Frontback_G02\\V3F_HY_9027_20201102_133832_E_CH1_Seoul_Sun_Frontback_Day_93709.webp → [Errno 22] Invalid argument: 'E:\\\\Hyunji4579 Dropbox\\\\Hyunji4579의 팀 폴더\\\\도로장애물\\\\Images\\\\CRACK\\\\C_Frontback_G02\\\\V3F_HY_9027_20201102_133832_E_CH1_Seoul_Sun_Frontback_Day_93709.webp'\n"
     ]
    },
    {
     "name": "stderr",
     "output_type": "stream",
     "text": [
      "Epoch 3/3 [Train]:  63%|██████▎   | 712/1128 [2:30:04<1:33:49, 13.53s/it]"
     ]
    },
    {
     "name": "stdout",
     "output_type": "stream",
     "text": [
      "[Warning] 스킵: E:\\Hyunji4579 Dropbox\\Hyunji4579의 팀 폴더\\도로장애물\\Images\\CRACK\\C_Frontback_D01\\V0F_HY_5570_20201103_140019_E_CH1_Seoul_Sun_Frontback_Day_25783.webp → [Errno 22] Invalid argument: 'E:\\\\Hyunji4579 Dropbox\\\\Hyunji4579의 팀 폴더\\\\도로장애물\\\\Images\\\\CRACK\\\\C_Frontback_D01\\\\V0F_HY_5570_20201103_140019_E_CH1_Seoul_Sun_Frontback_Day_25783.webp'\n"
     ]
    },
    {
     "name": "stderr",
     "output_type": "stream",
     "text": [
      "Epoch 3/3 [Train]:  63%|██████▎   | 713/1128 [2:30:20<1:38:52, 14.30s/it]"
     ]
    },
    {
     "name": "stdout",
     "output_type": "stream",
     "text": [
      "[Warning] 스킵: E:\\Hyunji4579 Dropbox\\Hyunji4579의 팀 폴더\\도로장애물\\Images\\CRACK\\C_Frontback_D01\\V0F_HY_1732_20201210_142402_E_CH0_Seoul_Cloud_Frontback_Day_15138.webp → [Errno 22] Invalid argument: 'E:\\\\Hyunji4579 Dropbox\\\\Hyunji4579의 팀 폴더\\\\도로장애물\\\\Annotations\\\\CRACK\\\\C_Frontback_D01\\\\V0F_HY_1732_20201210_142402_E_CH0_Seoul_Cloud_Frontback_Day_15138.json'\n"
     ]
    },
    {
     "name": "stderr",
     "output_type": "stream",
     "text": [
      "Epoch 3/3 [Train]:  65%|██████▍   | 733/1128 [2:35:30<1:36:33, 14.67s/it]"
     ]
    },
    {
     "name": "stdout",
     "output_type": "stream",
     "text": [
      "[Warning] 스킵: E:\\Hyunji4579 Dropbox\\Hyunji4579의 팀 폴더\\도로장애물\\Images\\CRACK\\C_Frontback_F01\\V2F_HY_2136_20201102_120316_N_CH0_Seoul_Sun_Frontback_Day_89115.webp → [Errno 22] Invalid argument: 'E:\\\\Hyunji4579 Dropbox\\\\Hyunji4579의 팀 폴더\\\\도로장애물\\\\Images\\\\CRACK\\\\C_Frontback_F01\\\\V2F_HY_2136_20201102_120316_N_CH0_Seoul_Sun_Frontback_Day_89115.webp'\n",
      "[Warning] 스킵: E:\\Hyunji4579 Dropbox\\Hyunji4579의 팀 폴더\\도로장애물\\Images\\CRACK\\C_Frontback_G02\\V3F_HY_6785_20160212_023149_E_CH0_Seoul_Sun_Frontback_Day_51940.webp → [Errno 22] Invalid argument: 'E:\\\\Hyunji4579 Dropbox\\\\Hyunji4579의 팀 폴더\\\\도로장애물\\\\Annotations\\\\CRACK\\\\C_Frontback_G02\\\\V3F_HY_6785_20160212_023149_E_CH0_Seoul_Sun_Frontback_Day_51940.json'\n"
     ]
    },
    {
     "name": "stderr",
     "output_type": "stream",
     "text": [
      "Epoch 3/3 [Train]:  69%|██████▉   | 776/1128 [2:45:56<1:15:09, 12.81s/it]"
     ]
    },
    {
     "name": "stdout",
     "output_type": "stream",
     "text": [
      "[Warning] 스킵: E:\\Hyunji4579 Dropbox\\Hyunji4579의 팀 폴더\\도로장애물\\Images\\CRACK\\C_Frontback_D02\\V1F_HY_2315_20160212_022418_E_CH1_Seoul_Sun_Frontback_Sunset_82039.webp → [Errno 22] Invalid argument: 'E:\\\\Hyunji4579 Dropbox\\\\Hyunji4579의 팀 폴더\\\\도로장애물\\\\Images\\\\CRACK\\\\C_Frontback_D02\\\\V1F_HY_2315_20160212_022418_E_CH1_Seoul_Sun_Frontback_Sunset_82039.webp'\n"
     ]
    },
    {
     "name": "stderr",
     "output_type": "stream",
     "text": [
      "Epoch 3/3 [Train]:  72%|███████▏  | 810/1128 [2:53:15<1:14:43, 14.10s/it]"
     ]
    },
    {
     "name": "stdout",
     "output_type": "stream",
     "text": [
      "[Warning] 스킵: E:\\Hyunji4579 Dropbox\\Hyunji4579의 팀 폴더\\도로장애물\\Images\\CRACK\\C_Frontback_D02\\V2F_HY_6634_20210111_102036_E_CH0_Seoul_Snow_Frontback_Day_11051.webp → [Errno 22] Invalid argument: 'E:\\\\Hyunji4579 Dropbox\\\\Hyunji4579의 팀 폴더\\\\도로장애물\\\\Annotations\\\\CRACK\\\\C_Frontback_D02\\\\V2F_HY_6634_20210111_102036_E_CH0_Seoul_Snow_Frontback_Day_11051.json'\n"
     ]
    },
    {
     "name": "stderr",
     "output_type": "stream",
     "text": [
      "Epoch 3/3 [Train]:  72%|███████▏  | 816/1128 [2:54:42<1:09:54, 13.44s/it]"
     ]
    },
    {
     "name": "stdout",
     "output_type": "stream",
     "text": [
      "[Warning] 스킵: E:\\Hyunji4579 Dropbox\\Hyunji4579의 팀 폴더\\도로장애물\\Images\\CRACK\\C_Frontback_E01\\V1F_HY_7628_20160212_013717_E_CH0_Seoul_Sun_Frontback_Day_69840.webp → [Errno 22] Invalid argument: 'E:\\\\Hyunji4579 Dropbox\\\\Hyunji4579의 팀 폴더\\\\도로장애물\\\\Images\\\\CRACK\\\\C_Frontback_E01\\\\V1F_HY_7628_20160212_013717_E_CH0_Seoul_Sun_Frontback_Day_69840.webp'\n"
     ]
    },
    {
     "name": "stderr",
     "output_type": "stream",
     "text": [
      "Epoch 3/3 [Train]:  75%|███████▍  | 841/1128 [3:00:31<1:21:41, 17.08s/it]"
     ]
    },
    {
     "name": "stdout",
     "output_type": "stream",
     "text": [
      "[Warning] 스킵: E:\\Hyunji4579 Dropbox\\Hyunji4579의 팀 폴더\\도로장애물\\Images\\CRACK\\C_Frontback_E02\\V2F_HY_2396_20201221_121030_E_CH1_Seoul_Sun_Frontback_Day_21762.webp → [Errno 22] Invalid argument: 'E:\\\\Hyunji4579 Dropbox\\\\Hyunji4579의 팀 폴더\\\\도로장애물\\\\Images\\\\CRACK\\\\C_Frontback_E02\\\\V2F_HY_2396_20201221_121030_E_CH1_Seoul_Sun_Frontback_Day_21762.webp'\n"
     ]
    },
    {
     "name": "stderr",
     "output_type": "stream",
     "text": [
      "Epoch 3/3 [Train]:  82%|████████▏ | 922/1128 [3:19:15<50:31, 14.72s/it]  "
     ]
    },
    {
     "name": "stdout",
     "output_type": "stream",
     "text": [
      "[Warning] 스킵: E:\\Hyunji4579 Dropbox\\Hyunji4579의 팀 폴더\\도로장애물\\Images\\CRACK\\C_Frontback_G02\\V3F_HY_6235_20160212_023249_E_CH1_Seoul_Sun_Frontback_Day_57605.webp → [Errno 22] Invalid argument: 'E:\\\\Hyunji4579 Dropbox\\\\Hyunji4579의 팀 폴더\\\\도로장애물\\\\Annotations\\\\CRACK\\\\C_Frontback_G02\\\\V3F_HY_6235_20160212_023249_E_CH1_Seoul_Sun_Frontback_Day_57605.json'\n"
     ]
    },
    {
     "name": "stderr",
     "output_type": "stream",
     "text": [
      "Epoch 3/3 [Train]:  82%|████████▏ | 925/1128 [3:19:45<39:13, 11.59s/it]"
     ]
    },
    {
     "name": "stdout",
     "output_type": "stream",
     "text": [
      "[Warning] 스킵: E:\\Hyunji4579 Dropbox\\Hyunji4579의 팀 폴더\\도로장애물\\Images\\CRACK\\C_Frontback_E02\\V2F_HY_3569_20201102_102554_E_CH1_Seoul_Sun_Frontback_Day_18816.webp → [Errno 22] Invalid argument: 'E:\\\\Hyunji4579 Dropbox\\\\Hyunji4579의 팀 폴더\\\\도로장애물\\\\Annotations\\\\CRACK\\\\C_Frontback_E02\\\\V2F_HY_3569_20201102_102554_E_CH1_Seoul_Sun_Frontback_Day_18816.json'\n"
     ]
    },
    {
     "name": "stderr",
     "output_type": "stream",
     "text": [
      "Epoch 3/3 [Train]:  85%|████████▌ | 959/1128 [3:27:05<41:20, 14.68s/it]"
     ]
    },
    {
     "name": "stdout",
     "output_type": "stream",
     "text": [
      "[Warning] 스킵: E:\\Hyunji4579 Dropbox\\Hyunji4579의 팀 폴더\\도로장애물\\Images\\CRACK\\C_Frontback_D01\\V0F_HY_1838_20201222_151558_N_CH0_Seoul_Sun_Frontback_Day_72459.webp → [Errno 22] Invalid argument: 'E:\\\\Hyunji4579 Dropbox\\\\Hyunji4579의 팀 폴더\\\\도로장애물\\\\Images\\\\CRACK\\\\C_Frontback_D01\\\\V0F_HY_1838_20201222_151558_N_CH0_Seoul_Sun_Frontback_Day_72459.webp'\n",
      "[Warning] 스킵: E:\\Hyunji4579 Dropbox\\Hyunji4579의 팀 폴더\\도로장애물\\Images\\CRACK\\C_Frontback_E02\\V2F_HY_4736_20201102_102654_E_CH1_Seoul_Sun_Frontback_Day_38493.webp → [Errno 22] Invalid argument: 'E:\\\\Hyunji4579 Dropbox\\\\Hyunji4579의 팀 폴더\\\\도로장애물\\\\Images\\\\CRACK\\\\C_Frontback_E02\\\\V2F_HY_4736_20201102_102654_E_CH1_Seoul_Sun_Frontback_Day_38493.webp'\n"
     ]
    },
    {
     "name": "stderr",
     "output_type": "stream",
     "text": [
      "Epoch 3/3 [Train]:  85%|████████▌ | 963/1128 [3:27:40<27:02,  9.83s/it]"
     ]
    },
    {
     "name": "stdout",
     "output_type": "stream",
     "text": [
      "[Warning] 스킵: E:\\Hyunji4579 Dropbox\\Hyunji4579의 팀 폴더\\도로장애물\\Images\\CRACK\\C_Frontback_D02\\V1F_HY_8979_20160212_014114_N_CH1_Seoul_Snow_Frontback_Day_34866.webp → [Errno 22] Invalid argument: 'E:\\\\Hyunji4579 Dropbox\\\\Hyunji4579의 팀 폴더\\\\도로장애물\\\\Images\\\\CRACK\\\\C_Frontback_D02\\\\V1F_HY_8979_20160212_014114_N_CH1_Seoul_Snow_Frontback_Day_34866.webp'\n"
     ]
    },
    {
     "name": "stderr",
     "output_type": "stream",
     "text": [
      "Epoch 3/3 [Train]:  88%|████████▊ | 989/1128 [3:33:09<32:14, 13.92s/it]"
     ]
    },
    {
     "name": "stdout",
     "output_type": "stream",
     "text": [
      "[Warning] 스킵: E:\\Hyunji4579 Dropbox\\Hyunji4579의 팀 폴더\\도로장애물\\Images\\CRACK\\C_Frontback_E02\\V2F_HY_6245_20201102_101105_E_CH1_Seoul_Sun_Frontback_Day_83810.webp → [Errno 22] Invalid argument: 'E:\\\\Hyunji4579 Dropbox\\\\Hyunji4579의 팀 폴더\\\\도로장애물\\\\Images\\\\CRACK\\\\C_Frontback_E02\\\\V2F_HY_6245_20201102_101105_E_CH1_Seoul_Sun_Frontback_Day_83810.webp'\n"
     ]
    },
    {
     "name": "stderr",
     "output_type": "stream",
     "text": [
      "Epoch 3/3 [Train]:  90%|████████▉ | 1010/1128 [3:37:43<27:55, 14.20s/it]"
     ]
    }
   ],
   "source": [
    "import os\n",
    "import json\n",
    "import cv2\n",
    "import numpy as np\n",
    "from PIL import Image\n",
    "import torch\n",
    "\n",
    "# ── 호환성 패치: torch.version.hip 속성 없을 때 대비 ─────────────────────────────\n",
    "if not hasattr(torch, 'version'):\n",
    "    class _v:\n",
    "        hip = False\n",
    "    torch.version = _v()\n",
    "# ────────────────────────────────────────────────────────────────────────────────\n",
    "\n",
    "import torch.nn as nn\n",
    "import torch.optim as optim\n",
    "from torch.utils.data import Dataset, DataLoader, random_split\n",
    "from torch.utils.data._utils.collate import default_collate\n",
    "from torchvision import transforms\n",
    "from torchvision.transforms import InterpolationMode\n",
    "from tqdm import tqdm\n",
    "\n",
    "import matplotlib.pyplot as plt\n",
    "from sklearn.metrics import (\n",
    "    accuracy_score,\n",
    "    precision_score,\n",
    "    recall_score,\n",
    "    f1_score,\n",
    "    jaccard_score,\n",
    "    r2_score\n",
    ")\n",
    "\n",
    "# ─── 1. 경로 & 하이퍼파라미터 ─────────────────────────────────────────────────\n",
    "IMG_ROOT    = r'E:\\Hyunji4579 Dropbox\\Hyunji4579의 팀 폴더\\도로장애물\\Images\\CRACK'\n",
    "ANN_ROOT    = r'E:\\Hyunji4579 Dropbox\\Hyunji4579의 팀 폴더\\도로장애물\\Annotations\\CRACK'\n",
    "INPUT_SIZE  = 32\n",
    "BATCH_SIZE  = 32\n",
    "NUM_EPOCHS  = 3\n",
    "NUM_CLASSES = 2\n",
    "DEVICE      = torch.device('cpu')  # GPU 사용 시 'cuda'\n",
    "\n",
    "# ─── 2. collate_fn: None 샘플 걸러내기 ─────────────────────────────────────────\n",
    "def filter_none_collate(batch):\n",
    "    batch = [b for b in batch if b is not None]\n",
    "    if not batch:\n",
    "        return None\n",
    "    return default_collate(batch)\n",
    "\n",
    "# ─── 3. Dataset 정의 ─────────────────────────────────────────────────────────\n",
    "class CrackSegDataset(Dataset):\n",
    "    def __init__(self, img_root, ann_root, img_tf, mask_tf):\n",
    "        self.img_tf, self.mask_tf = img_tf, mask_tf\n",
    "        self.items = []\n",
    "        exts = ('.png', '.jpg', '.jpeg', '.webp')\n",
    "        for cls in os.listdir(img_root):\n",
    "            img_dir = os.path.join(img_root, cls)\n",
    "            ann_dir = os.path.join(ann_root, cls)\n",
    "            if not os.path.isdir(img_dir) or not os.path.isdir(ann_dir):\n",
    "                continue\n",
    "            for fn in os.listdir(img_dir):\n",
    "                if not fn.lower().endswith(exts):\n",
    "                    continue\n",
    "                jp = os.path.join(ann_dir, os.path.splitext(fn)[0] + '.json')\n",
    "                if os.path.isfile(jp):\n",
    "                    self.items.append((os.path.join(img_dir, fn), jp))\n",
    "        assert self.items, f\"데이터가 없습니다: {img_root}\"\n",
    "\n",
    "    def __len__(self):\n",
    "        return len(self.items)\n",
    "\n",
    "    def __getitem__(self, idx):\n",
    "        img_path, json_path = self.items[idx]\n",
    "        try:\n",
    "            # 1) 이미지 읽기 (cv2 우선, 실패 시 PIL)\n",
    "            arr = cv2.imread(img_path, cv2.IMREAD_UNCHANGED)\n",
    "            if arr is None:\n",
    "                pil = Image.open(img_path).convert('RGB')\n",
    "                arr = np.array(pil)\n",
    "            else:\n",
    "                if arr.ndim == 3 and arr.shape[2] == 4:\n",
    "                    arr = cv2.cvtColor(arr, cv2.COLOR_BGRA2RGB)\n",
    "                else:\n",
    "                    arr = cv2.cvtColor(arr, cv2.COLOR_BGR2RGB)\n",
    "            img = Image.fromarray(arr)\n",
    "\n",
    "            # 2) JSON → mask 생성\n",
    "            w, h = img.size\n",
    "            with open(json_path, 'r', encoding='utf-8') as f:\n",
    "                data = json.load(f)\n",
    "            mask = np.zeros((h, w), dtype=np.uint8)\n",
    "            for ann in data.get('annotations', []):\n",
    "                for poly in ann.get('polyline', []):\n",
    "                    if not poly or any(p is None for p in poly) or len(poly) % 2 != 0:\n",
    "                        continue\n",
    "                    pts = np.array(poly, dtype=np.int32).reshape(-1, 2)\n",
    "                    cv2.polylines(mask, [pts], isClosed=False, color=1, thickness=1)\n",
    "            mask = Image.fromarray(mask)\n",
    "\n",
    "            # 3) Transform 적용\n",
    "            img_t  = self.img_tf(img)\n",
    "            mask_t = self.mask_tf(mask).squeeze(0).long()\n",
    "            return img_t, mask_t\n",
    "\n",
    "        except Exception as e:\n",
    "            print(f\"[Warning] 스킵: {img_path} → {e}\")\n",
    "            return None\n",
    "\n",
    "# ─── 4. Transform 정의 ───────────────────────────────────────────────────────\n",
    "img_tf = transforms.Compose([\n",
    "    transforms.Resize((INPUT_SIZE, INPUT_SIZE)),\n",
    "    transforms.ToTensor(),\n",
    "])\n",
    "mask_tf = transforms.Compose([\n",
    "    transforms.Resize((INPUT_SIZE, INPUT_SIZE), interpolation=InterpolationMode.NEAREST),\n",
    "    transforms.PILToTensor(),\n",
    "])\n",
    "\n",
    "# ─── 5. 모델 정의 ───────────────────────────────────────────────────────────\n",
    "class TinySegModel(nn.Module):\n",
    "    def __init__(self, num_classes):\n",
    "        super().__init__()\n",
    "        self.net = nn.Sequential(\n",
    "            nn.Conv2d(3, 16, kernel_size=1),\n",
    "            nn.ReLU(inplace=True),\n",
    "            nn.Conv2d(16, num_classes, kernel_size=1),\n",
    "        )\n",
    "    def forward(self, x):\n",
    "        return self.net(x)\n",
    "\n",
    "# ─── 6. 시각화 함수 ─────────────────────────────────────────────────────────\n",
    "def visualize_predictions(model, loader, num_samples=5, output_dir='visualizations'):\n",
    "    os.makedirs(output_dir, exist_ok=True)\n",
    "    model.eval()\n",
    "    count = 0\n",
    "    with torch.no_grad():\n",
    "        for batch in loader:\n",
    "            if batch is None:\n",
    "                continue\n",
    "            imgs, masks = batch\n",
    "            imgs, masks = imgs.to(DEVICE), masks.to(DEVICE)\n",
    "            preds = model(imgs).argmax(1)\n",
    "            for i in range(imgs.size(0)):\n",
    "                if count >= num_samples:\n",
    "                    return\n",
    "                fig, axes = plt.subplots(1, 3, figsize=(12, 4))\n",
    "                axes[0].imshow(imgs[i].cpu().permute(1, 2, 0))\n",
    "                axes[0].set_title('Input');    axes[0].axis('off')\n",
    "                axes[1].imshow(masks[i].cpu(), cmap='gray')\n",
    "                axes[1].set_title('Ground Truth'); axes[1].axis('off')\n",
    "                axes[2].imshow(preds[i].cpu(), cmap='gray')\n",
    "                axes[2].set_title('Prediction');   axes[2].axis('off')\n",
    "                plt.savefig(os.path.join(output_dir, f'pred_{count}.png'))\n",
    "                plt.close(fig)\n",
    "                count += 1\n",
    "\n",
    "# ─── 7. 학습·평가·저장·시각화 루프 ──────────────────────────────────────────\n",
    "def main():\n",
    "    # Dataset & DataLoader\n",
    "    ds = CrackSegDataset(IMG_ROOT, ANN_ROOT, img_tf, mask_tf)\n",
    "    n_train = int(len(ds) * 0.8)\n",
    "    train_ds, val_ds = random_split(ds, [n_train, len(ds) - n_train])\n",
    "    train_loader = DataLoader(\n",
    "        train_ds,\n",
    "        batch_size=BATCH_SIZE,\n",
    "        shuffle=True,\n",
    "        collate_fn=filter_none_collate\n",
    "    )\n",
    "    val_loader = DataLoader(\n",
    "        val_ds,\n",
    "        batch_size=BATCH_SIZE,\n",
    "        shuffle=False,\n",
    "        collate_fn=filter_none_collate\n",
    "    )\n",
    "\n",
    "    # 모델·손실·옵티마이저 설정\n",
    "    model     = TinySegModel(NUM_CLASSES).to(DEVICE)\n",
    "    criterion = nn.CrossEntropyLoss()\n",
    "    optimizer = optim.SGD(model.parameters(), lr=0.1)\n",
    "\n",
    "    best_iou = 0.0\n",
    "    best_path = 'best_model.pt'\n",
    "\n",
    "    for epoch in range(1, NUM_EPOCHS + 1):\n",
    "        model.train()\n",
    "        for batch in tqdm(train_loader, desc=f'Epoch {epoch}/{NUM_EPOCHS} [Train]'):\n",
    "            if batch is None:\n",
    "                continue\n",
    "            imgs, masks = batch\n",
    "            imgs, masks = imgs.to(DEVICE), masks.to(DEVICE)\n",
    "            optimizer.zero_grad()\n",
    "            loss = criterion(model(imgs), masks)\n",
    "            loss.backward()\n",
    "            optimizer.step()\n",
    "\n",
    "        model.eval()\n",
    "        all_preds, all_masks = [], []\n",
    "        with torch.no_grad():\n",
    "            for batch in val_loader:\n",
    "                if batch is None:\n",
    "                    continue\n",
    "                imgs, masks = batch\n",
    "                imgs, masks = imgs.to(DEVICE), masks.to(DEVICE)\n",
    "                preds = model(imgs).argmax(1)\n",
    "                all_preds.append(preds.cpu().numpy().ravel())\n",
    "                all_masks.append(masks.cpu().numpy().ravel())\n",
    "\n",
    "        y_pred = np.concatenate(all_preds)\n",
    "        y_true = np.concatenate(all_masks)\n",
    "\n",
    "        acc   = accuracy_score(y_true, y_pred)\n",
    "        prec  = precision_score(y_true, y_pred, zero_division=0)\n",
    "        rec   = recall_score(y_true, y_pred, zero_division=0)\n",
    "        f1    = f1_score(y_true, y_pred, zero_division=0)\n",
    "        iou   = jaccard_score(y_true, y_pred, zero_division=0)\n",
    "        r2    = r2_score(y_true, y_pred)\n",
    "\n",
    "        print(f'Epoch {epoch} Metrics:')\n",
    "        print(f'  Accuracy : {acc:.4f}')\n",
    "        print(f'  Precision: {prec:.4f}')\n",
    "        print(f'  Recall   : {rec:.4f}')\n",
    "        print(f'  F1-score : {f1:.4f}')\n",
    "        print(f'  IoU      : {iou:.4f}')\n",
    "        print(f'  R2-score : {r2:.4f}')\n",
    "\n",
    "        if iou > best_iou:\n",
    "            best_iou = iou\n",
    "            torch.save(model.state_dict(), best_path)\n",
    "            print(f'  -> New best model saved (IoU={iou:.4f})')\n",
    "\n",
    "    print('Training complete.')\n",
    "    print(f'Best validation IoU: {best_iou:.4f}')\n",
    "    print(f'Best model saved to: {best_path}')\n",
    "\n",
    "    # 저장된 best 모델로 시각화\n",
    "    best_model = TinySegModel(NUM_CLASSES).to(DEVICE)\n",
    "    best_model.load_state_dict(torch.load(best_path, map_location=DEVICE))\n",
    "    visualize_predictions(best_model, val_loader, num_samples=5)\n",
    "\n",
    "if __name__ == '__main__':\n",
    "    main()\n"
   ]
  },
  {
   "cell_type": "code",
   "execution_count": 1,
   "id": "3e2ee464",
   "metadata": {},
   "outputs": [
    {
     "ename": "KeyboardInterrupt",
     "evalue": "",
     "output_type": "error",
     "traceback": [
      "\u001b[1;31m---------------------------------------------------------------------------\u001b[0m",
      "\u001b[1;31mKeyboardInterrupt\u001b[0m                         Traceback (most recent call last)",
      "Cell \u001b[1;32mIn[1], line 5\u001b[0m\n\u001b[0;32m      1\u001b[0m \u001b[38;5;66;03m# ─── 8. Pixel-wise mAP50 & R² 계산 (IPython Friendly) ──────────────────────────\u001b[39;00m\n\u001b[0;32m      2\u001b[0m \u001b[38;5;66;03m# 필요한 패키지 설치:\u001b[39;00m\n\u001b[0;32m      3\u001b[0m \u001b[38;5;66;03m# !pip install scikit-learn\u001b[39;00m\n\u001b[1;32m----> 5\u001b[0m \u001b[38;5;28;01mimport\u001b[39;00m \u001b[38;5;21;01mtorch\u001b[39;00m\u001b[38;5;21;01m.\u001b[39;00m\u001b[38;5;21;01mnn\u001b[39;00m \u001b[38;5;28;01mas\u001b[39;00m \u001b[38;5;21;01mnn\u001b[39;00m\n\u001b[0;32m      6\u001b[0m \u001b[38;5;28;01mimport\u001b[39;00m \u001b[38;5;21;01mnumpy\u001b[39;00m \u001b[38;5;28;01mas\u001b[39;00m \u001b[38;5;21;01mnp\u001b[39;00m\n\u001b[0;32m      7\u001b[0m \u001b[38;5;28;01mimport\u001b[39;00m \u001b[38;5;21;01mtorch\u001b[39;00m\n",
      "File \u001b[1;32me:\\Anaconda\\envs\\igpu39\\lib\\site-packages\\torch\\__init__.py:270\u001b[0m\n\u001b[0;32m    266\u001b[0m                     \u001b[38;5;28;01mraise\u001b[39;00m err\n\u001b[0;32m    268\u001b[0m         kernel32\u001b[38;5;241m.\u001b[39mSetErrorMode(prev_error_mode)\n\u001b[1;32m--> 270\u001b[0m     \u001b[43m_load_dll_libraries\u001b[49m\u001b[43m(\u001b[49m\u001b[43m)\u001b[49m\n\u001b[0;32m    271\u001b[0m     \u001b[38;5;28;01mdel\u001b[39;00m _load_dll_libraries\n\u001b[0;32m    274\u001b[0m \u001b[38;5;28;01mdef\u001b[39;00m \u001b[38;5;21m_get_cuda_dep_paths\u001b[39m(path: \u001b[38;5;28mstr\u001b[39m, lib_folder: \u001b[38;5;28mstr\u001b[39m, lib_name: \u001b[38;5;28mstr\u001b[39m) \u001b[38;5;241m-\u001b[39m\u001b[38;5;241m>\u001b[39m \u001b[38;5;28mlist\u001b[39m[\u001b[38;5;28mstr\u001b[39m]:\n\u001b[0;32m    275\u001b[0m     \u001b[38;5;66;03m# Libraries can either be in path/nvidia/lib_folder/lib or path/lib_folder/lib\u001b[39;00m\n",
      "File \u001b[1;32me:\\Anaconda\\envs\\igpu39\\lib\\site-packages\\torch\\__init__.py:246\u001b[0m, in \u001b[0;36m_load_dll_libraries\u001b[1;34m()\u001b[0m\n\u001b[0;32m    244\u001b[0m is_loaded \u001b[38;5;241m=\u001b[39m \u001b[38;5;28;01mFalse\u001b[39;00m\n\u001b[0;32m    245\u001b[0m \u001b[38;5;28;01mif\u001b[39;00m with_load_library_flags:\n\u001b[1;32m--> 246\u001b[0m     res \u001b[38;5;241m=\u001b[39m \u001b[43mkernel32\u001b[49m\u001b[38;5;241;43m.\u001b[39;49m\u001b[43mLoadLibraryExW\u001b[49m\u001b[43m(\u001b[49m\u001b[43mdll\u001b[49m\u001b[43m,\u001b[49m\u001b[43m \u001b[49m\u001b[38;5;28;43;01mNone\u001b[39;49;00m\u001b[43m,\u001b[49m\u001b[43m \u001b[49m\u001b[38;5;241;43m0x00001100\u001b[39;49m\u001b[43m)\u001b[49m\n\u001b[0;32m    247\u001b[0m     last_error \u001b[38;5;241m=\u001b[39m ctypes\u001b[38;5;241m.\u001b[39mget_last_error()\n\u001b[0;32m    248\u001b[0m     \u001b[38;5;28;01mif\u001b[39;00m res \u001b[38;5;129;01mis\u001b[39;00m \u001b[38;5;28;01mNone\u001b[39;00m \u001b[38;5;129;01mand\u001b[39;00m last_error \u001b[38;5;241m!=\u001b[39m \u001b[38;5;241m126\u001b[39m:\n",
      "\u001b[1;31mKeyboardInterrupt\u001b[0m: "
     ]
    }
   ],
   "source": [
    "# ─── 8. Pixel-wise mAP50 & R² 계산 (IPython Friendly) ──────────────────────────\n",
    "# 필요한 패키지 설치:\n",
    "# !pip install scikit-learn\n",
    "\n",
    "import torch.nn as nn\n",
    "import numpy as np\n",
    "import torch\n",
    "from sklearn.metrics import average_precision_score, r2_score\n",
    "\n",
    "class TinySegModel(nn.Module):\n",
    "    def __init__(self, num_classes):\n",
    "        super().__init__()\n",
    "        self.net = nn.Sequential(\n",
    "            nn.Conv2d(3, 16, kernel_size=1),\n",
    "            nn.ReLU(inplace=True),\n",
    "            nn.Conv2d(16, num_classes, kernel_size=1),\n",
    "        )\n",
    "    def forward(self, x):\n",
    "        return self.net(x)\n",
    "\n",
    "\n",
    "# 1) PyTorch 모델 다시 로드 (TorchScript 대신 원본 모델 사용)\n",
    "metrics_model = TinySegModel(NUM_CLASSES).to(DEVICE)\n",
    "metrics_model.load_state_dict(torch.load(BEST_FN, map_location=DEVICE))\n",
    "metrics_model.eval()\n",
    "\n",
    "# 2) 스코어 & GT 수집\n",
    "all_scores = []\n",
    "all_truths = []\n",
    "\n",
    "with torch.no_grad():\n",
    "    for imgs, masks in val_loader:\n",
    "        imgs = imgs.to(DEVICE)\n",
    "        masks = masks.to(DEVICE)\n",
    "\n",
    "        logits = metrics_model(imgs)                  # (B, 2, H, W)\n",
    "        probs  = torch.softmax(logits, dim=1)[:, 1]   # (B, H, W): crack class 확률\n",
    "        all_scores.append(probs.cpu().view(-1).numpy())\n",
    "        all_truths.append(masks.view(-1).cpu().numpy())\n",
    "\n",
    "y_score = np.concatenate(all_scores)\n",
    "y_true  = np.concatenate(all_truths)\n",
    "\n",
    "# 3) 지표 계산\n",
    "ap50 = average_precision_score(y_true, y_score)  # 픽셀 단위 AP ≈ mAP@50\n",
    "r2   = r2_score(y_true, y_score)\n",
    "\n",
    "print(f\"Pixel-wise AP (≈mAP50): {ap50:.4f}\")\n",
    "print(f\"Pixel-wise R²:         {r2:.4f}\")\n"
   ]
  },
  {
   "cell_type": "code",
   "execution_count": null,
   "id": "80254aa5",
   "metadata": {},
   "outputs": [],
   "source": [
    "import os, json, cv2\n",
    "import numpy as np\n",
    "from PIL import Image\n",
    "import torch\n",
    "import torch.nn as nn\n",
    "import torch.optim as optim\n",
    "from torch.utils.data import Dataset, DataLoader, random_split\n",
    "from torchvision import transforms, models\n",
    "from torchvision.models.segmentation import fcn_resnet18\n",
    "from tqdm import tqdm\n",
    "\n",
    "# ─── 1. 전역 설정 ──────────────────────────────────────────\n",
    "IMG_ROOT   = r'E:\\Hyunji4579 Dropbox\\Hyunji4579의 팀 폴더\\도로장애물\\Images\\CRACK'\n",
    "ANN_ROOT   = r'E:\\Hyunji4579 Dropbox\\Hyunji4579의 팀 폴더\\도로장애물\\Annotations\\CRACK'\n",
    "MASK_ROOT  = r'E:\\Hyunji4579 Dropbox\\Hyunji4579의 팀 폴더\\도로장애물\\Masks\\CRACK'  # 캐시 저장 폴더\n",
    "os.makedirs(MASK_ROOT, exist_ok=True)\n",
    "\n",
    "INPUT_SIZE = 128   # 중간 해상도\n",
    "BATCH_SIZE = 32    # CPU 메모리 허용치에서 최대로\n",
    "NUM_EPOCHS = 30\n",
    "NUM_CLASSES= 2     # 배경 vs 크랙\n",
    "DEVICE     = torch.device('cpu')\n",
    "\n",
    "# CPU 쓰레드 수 최대화\n",
    "torch.set_num_threads(os.cpu_count())\n",
    "\n",
    "# ─── 2. Dataset w/ 마스크 캐싱 ───────────────────────────\n",
    "class CrackSegDataset(Dataset):\n",
    "    def __init__(self, img_root, ann_root, mask_root, img_tf, mask_tf):\n",
    "        self.img_tf, self.mask_tf = img_tf, mask_tf\n",
    "        self.mask_root = mask_root\n",
    "        self.items = []\n",
    "        exts = ('.png','.jpg','.jpeg','.webp')\n",
    "        for cls in sorted(os.listdir(img_root)):\n",
    "            img_dir = os.path.join(img_root, cls)\n",
    "            ann_dir = os.path.join(ann_root, cls)\n",
    "            mask_dir = os.path.join(mask_root, cls)\n",
    "            os.makedirs(mask_dir, exist_ok=True)\n",
    "            if not os.path.isdir(img_dir) or not os.path.isdir(ann_dir): continue\n",
    "            for fn in sorted(os.listdir(img_dir)):\n",
    "                if not fn.lower().endswith(exts): continue\n",
    "                jp = os.path.join(ann_dir, os.path.splitext(fn)[0] + '.json')\n",
    "                if os.path.isfile(jp):\n",
    "                    self.items.append((cls, fn, jp))\n",
    "        assert self.items, \"데이터 없음\"\n",
    "\n",
    "    def __len__(self): return len(self.items)\n",
    "\n",
    "    def __getitem__(self, idx):\n",
    "        cls, fn, json_path = self.items[idx]\n",
    "        img_path = os.path.join(IMG_ROOT, cls, fn)\n",
    "        mask_path= os.path.join(self.mask_root, cls, os.path.splitext(fn)[0] + '.png')\n",
    "\n",
    "        # 1) 이미지 로드 (PIL)\n",
    "        img = Image.open(img_path).convert('RGB')\n",
    "\n",
    "        # 2) 마스크 캐싱: 없으면 생성→저장, 있으면 바로 로드\n",
    "        if not os.path.isfile(mask_path):\n",
    "            # JSON → mask\n",
    "            with open(json_path, 'r', encoding='utf-8') as f:\n",
    "                data = json.load(f)\n",
    "            w,h = img.size\n",
    "            mask = np.zeros((h,w), dtype=np.uint8)\n",
    "            for ann in data.get('annotations', []):\n",
    "                for poly in ann.get('polyline', []):\n",
    "                    pts = np.array(poly).reshape(-1,2).astype(np.int32)\n",
    "                    cv2.polylines(mask, [pts], False, 1, thickness=3)\n",
    "            Image.fromarray(mask).save(mask_path)\n",
    "        mask = Image.open(mask_path)\n",
    "\n",
    "        # 3) Transform\n",
    "        img  = self.img_tf(img)\n",
    "        mask = self.mask_tf(mask).squeeze(0).long()\n",
    "        return img, mask\n",
    "\n",
    "# ─── 3. Transform 정의 ────────────────────────────────────\n",
    "img_tf = transforms.Compose([\n",
    "    transforms.Resize((INPUT_SIZE,INPUT_SIZE)),\n",
    "    transforms.ColorJitter(0.1,0.1,0.1,0.1),\n",
    "    transforms.RandomHorizontalFlip(),\n",
    "    transforms.ToTensor(),\n",
    "    transforms.Normalize([0.485,0.456,0.406],\n",
    "                         [0.229,0.224,0.225]),\n",
    "])\n",
    "mask_tf = transforms.Compose([\n",
    "    transforms.Resize((INPUT_SIZE,INPUT_SIZE), interpolation=transforms.InterpolationMode.NEAREST),\n",
    "    transforms.PILToTensor(),\n",
    "])\n",
    "\n",
    "# ─── 4. 학습/검증 함수 ────────────────────────────────────\n",
    "def train_one_epoch(model, loader, criterion, optimizer):\n",
    "    model.train()\n",
    "    total_loss = 0\n",
    "    for imgs, masks in loader:\n",
    "        imgs, masks = imgs.to(DEVICE), masks.to(DEVICE)\n",
    "        optimizer.zero_grad()\n",
    "        out = model(imgs)['out']\n",
    "        loss = criterion(out, masks)\n",
    "        loss.backward()\n",
    "        optimizer.step()\n",
    "        total_loss += loss.item() * imgs.size(0)\n",
    "    return total_loss / len(loader.dataset)\n",
    "\n",
    "@torch.no_grad()\n",
    "def eval_one_epoch(model, loader, criterion):\n",
    "    model.eval()\n",
    "    total_loss = correct = total = 0\n",
    "    for imgs, masks in loader:\n",
    "        imgs, masks = imgs.to(DEVICE), masks.to(DEVICE)\n",
    "        out = model(imgs)['out']\n",
    "        to\n"
   ]
  }
 ],
 "metadata": {
  "kernelspec": {
   "display_name": "Py39 (XPU)",
   "language": "python",
   "name": "igpu39"
  },
  "language_info": {
   "codemirror_mode": {
    "name": "ipython",
    "version": 3
   },
   "file_extension": ".py",
   "mimetype": "text/x-python",
   "name": "python",
   "nbconvert_exporter": "python",
   "pygments_lexer": "ipython3",
   "version": "3.9.21"
  }
 },
 "nbformat": 4,
 "nbformat_minor": 5
}
